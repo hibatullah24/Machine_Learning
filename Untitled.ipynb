{
 "cells": [
  {
   "cell_type": "code",
   "execution_count": 1,
   "id": "dc052b71-cc44-4935-a97f-52a14909c0b2",
   "metadata": {},
   "outputs": [],
   "source": [
    "import os\n",
    "os.chdir(r\"C:\\Users\\Hibatullah\\CA\\ML\")"
   ]
  },
  {
   "cell_type": "code",
   "execution_count": 3,
   "id": "b4029561-0bf4-4d9a-881a-8d845a6b689b",
   "metadata": {},
   "outputs": [
    {
     "name": "stderr",
     "output_type": "stream",
     "text": [
      "error: remote origin already exists.\n"
     ]
    }
   ],
   "source": [
    "!git remote add origin https://github.com/hibatullah24/Machine_Learning"
   ]
  },
  {
   "cell_type": "code",
   "execution_count": 4,
   "id": "d927ff8f-6233-4e8b-a1fe-1a5d750df158",
   "metadata": {},
   "outputs": [],
   "source": [
    "!git config user.name \"hibatullah24\"\n",
    "!git config user.email \"hibatullah.saleh2000@gmail.com\""
   ]
  },
  {
   "cell_type": "code",
   "execution_count": 5,
   "id": "e3e513c0-8b1d-413f-8031-574124e31b6f",
   "metadata": {},
   "outputs": [
    {
     "name": "stdout",
     "output_type": "stream",
     "text": [
      "On branch master\n",
      "\n",
      "No commits yet\n",
      "\n",
      "Untracked files:\n",
      "  (use \"git add <file>...\" to include in what will be committed)\n",
      "\t.ipynb_checkpoints/\n",
      "\tUntitled.ipynb\n",
      "\tamazon.csv\n",
      "\tamazon_sale.ipynb\n",
      "\n",
      "nothing added to commit but untracked files present (use \"git add\" to track)\n"
     ]
    }
   ],
   "source": [
    "!git status"
   ]
  },
  {
   "cell_type": "code",
   "execution_count": 6,
   "id": "0edf8fc3-d47d-4241-978c-4b63054a6284",
   "metadata": {},
   "outputs": [
    {
     "name": "stderr",
     "output_type": "stream",
     "text": [
      "warning: in the working copy of 'amazon_sale.ipynb', LF will be replaced by CRLF the next time Git touches it\n"
     ]
    }
   ],
   "source": [
    "!git add amazon_sale.ipynb"
   ]
  },
  {
   "cell_type": "code",
   "execution_count": 10,
   "id": "de64b930-e78c-4443-b292-04c4259e3ef4",
   "metadata": {},
   "outputs": [
    {
     "name": "stderr",
     "output_type": "stream",
     "text": [
      "warning: in the working copy of '.ipynb_checkpoints/Untitled-checkpoint.ipynb', LF will be replaced by CRLF the next time Git touches it\n",
      "warning: in the working copy of '.ipynb_checkpoints/amazon_sale-checkpoint.ipynb', LF will be replaced by CRLF the next time Git touches it\n",
      "warning: in the working copy of 'Untitled.ipynb', LF will be replaced by CRLF the next time Git touches it\n"
     ]
    }
   ],
   "source": [
    "!git add ."
   ]
  },
  {
   "cell_type": "code",
   "execution_count": 11,
   "id": "8c3fd047-c452-4f72-bd9e-53516d75830c",
   "metadata": {},
   "outputs": [
    {
     "name": "stdout",
     "output_type": "stream",
     "text": [
      "[master e2b04d0] upload file\n",
      " 4 files changed, 5513 insertions(+)\n",
      " create mode 100644 .ipynb_checkpoints/Untitled-checkpoint.ipynb\n",
      " create mode 100644 .ipynb_checkpoints/amazon_sale-checkpoint.ipynb\n",
      " create mode 100644 Untitled.ipynb\n",
      " create mode 100644 amazon.csv\n"
     ]
    }
   ],
   "source": [
    "!git commit -m \"upload file\""
   ]
  },
  {
   "cell_type": "code",
   "execution_count": 13,
   "id": "cc7c0ab6-6f9a-46b4-b038-02956e573a25",
   "metadata": {},
   "outputs": [
    {
     "name": "stdout",
     "output_type": "stream",
     "text": [
      "* master\n"
     ]
    }
   ],
   "source": [
    "!git branch"
   ]
  },
  {
   "cell_type": "code",
   "execution_count": 16,
   "id": "45c09142-60da-4dd7-bc26-3e7e851724fc",
   "metadata": {},
   "outputs": [
    {
     "name": "stdout",
     "output_type": "stream",
     "text": [
      "branch 'master' set up to track 'origin/master'.\n"
     ]
    },
    {
     "name": "stderr",
     "output_type": "stream",
     "text": [
      "To https://github.com/hibatullah24/Machine_Learning.git\n",
      "   87f8ac6..e2b04d0  master -> master\n"
     ]
    }
   ],
   "source": [
    "!git push -u origin master"
   ]
  },
  {
   "cell_type": "code",
   "execution_count": 17,
   "id": "6a1c4b50-afa1-41d5-995e-9168c39ed459",
   "metadata": {},
   "outputs": [
    {
     "name": "stdout",
     "output_type": "stream",
     "text": [
      ".ipynb_checkpoints/Untitled-checkpoint.ipynb\n",
      ".ipynb_checkpoints/amazon_sale-checkpoint.ipynb\n",
      "Untitled.ipynb\n",
      "amazon.csv\n",
      "amazon_sale.ipynb\n"
     ]
    }
   ],
   "source": [
    "!git ls-files"
   ]
  },
  {
   "cell_type": "code",
   "execution_count": 18,
   "id": "cd50aa76-ce3c-43d3-af20-3119c66a8311",
   "metadata": {},
   "outputs": [
    {
     "name": "stdout",
     "output_type": "stream",
     "text": [
      "On branch main\n",
      "Changes not staged for commit:\n",
      "  (use \"git add <file>...\" to update what will be committed)\n",
      "  (use \"git restore <file>...\" to discard changes in working directory)\n",
      "\tmodified:   Untitled.ipynb\n",
      "\n",
      "no changes added to commit (use \"git add\" and/or \"git commit -a\")\n"
     ]
    }
   ],
   "source": [
    "!git status"
   ]
  },
  {
   "cell_type": "code",
   "execution_count": 19,
   "id": "bfc74b6c-21cf-43b5-a839-e7007d331774",
   "metadata": {},
   "outputs": [
    {
     "name": "stdout",
     "output_type": "stream",
     "text": [
      "commit fcc333e579b7fa505c222c195bb4438e894b2656\n",
      "Author: hibatullah24 <hibatullah.saleh2000@gmail.com>\n",
      "Date:   Mon Jun 16 23:20:13 2025 +0400\n",
      "\n",
      "    Your commit message\n",
      "\n",
      "Untitled.ipynb\n",
      "amazon_sale.ipynb\n"
     ]
    }
   ],
   "source": [
    "!git show --name-only"
   ]
  },
  {
   "cell_type": "code",
   "execution_count": null,
   "id": "97f69069-9dc0-4e63-ba8c-c6ea09c4330e",
   "metadata": {},
   "outputs": [],
   "source": []
  },
  {
   "cell_type": "code",
   "execution_count": null,
   "id": "696da44a-c643-493e-9584-420c0c68f6e0",
   "metadata": {},
   "outputs": [],
   "source": []
  },
  {
   "cell_type": "code",
   "execution_count": null,
   "id": "a6d350a6-fa3d-4958-9489-4faab7c861b1",
   "metadata": {},
   "outputs": [],
   "source": []
  },
  {
   "cell_type": "code",
   "execution_count": null,
   "id": "12cb7c1d-eb47-48f6-b86a-c233fe24d3ce",
   "metadata": {},
   "outputs": [],
   "source": []
  },
  {
   "cell_type": "code",
   "execution_count": null,
   "id": "3e082ccb-fc1f-4dd3-8320-4fe8296fa316",
   "metadata": {},
   "outputs": [],
   "source": [
    "#!git add .\n",
    "!#git commit -m \"Your commit message\"\n",
    "#!git push"
   ]
  }
 ],
 "metadata": {
  "kernelspec": {
   "display_name": "Python 3 (ipykernel)",
   "language": "python",
   "name": "python3"
  },
  "language_info": {
   "codemirror_mode": {
    "name": "ipython",
    "version": 3
   },
   "file_extension": ".py",
   "mimetype": "text/x-python",
   "name": "python",
   "nbconvert_exporter": "python",
   "pygments_lexer": "ipython3",
   "version": "3.12.7"
  }
 },
 "nbformat": 4,
 "nbformat_minor": 5
}
