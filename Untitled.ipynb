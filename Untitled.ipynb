{
 "cells": [
  {
   "cell_type": "code",
   "execution_count": 1,
   "id": "dc052b71-cc44-4935-a97f-52a14909c0b2",
   "metadata": {},
   "outputs": [],
   "source": [
    "import os\n",
    "os.chdir(r\"C:\\Users\\Hibatullah\\CA\\ML\")"
   ]
  },
  {
   "cell_type": "code",
   "execution_count": 3,
   "id": "b4029561-0bf4-4d9a-881a-8d845a6b689b",
   "metadata": {},
   "outputs": [
    {
     "name": "stderr",
     "output_type": "stream",
     "text": [
      "error: remote origin already exists.\n"
     ]
    }
   ],
   "source": [
    "!git remote add origin https://github.com/hibatullah24/Machine_Learning"
   ]
  },
  {
   "cell_type": "code",
   "execution_count": 4,
   "id": "d927ff8f-6233-4e8b-a1fe-1a5d750df158",
   "metadata": {},
   "outputs": [],
   "source": [
    "!git config user.name \"hibatullah24\"\n",
    "!git config user.email \"hibatullah.saleh2000@gmail.com\""
   ]
  },
  {
   "cell_type": "code",
   "execution_count": null,
   "id": "e3e513c0-8b1d-413f-8031-574124e31b6f",
   "metadata": {},
   "outputs": [],
   "source": []
  },
  {
   "cell_type": "code",
   "execution_count": null,
   "id": "0edf8fc3-d47d-4241-978c-4b63054a6284",
   "metadata": {},
   "outputs": [],
   "source": []
  },
  {
   "cell_type": "code",
   "execution_count": null,
   "id": "de64b930-e78c-4443-b292-04c4259e3ef4",
   "metadata": {},
   "outputs": [],
   "source": []
  },
  {
   "cell_type": "code",
   "execution_count": null,
   "id": "8c3fd047-c452-4f72-bd9e-53516d75830c",
   "metadata": {},
   "outputs": [],
   "source": []
  },
  {
   "cell_type": "code",
   "execution_count": null,
   "id": "cc7c0ab6-6f9a-46b4-b038-02956e573a25",
   "metadata": {},
   "outputs": [],
   "source": []
  },
  {
   "cell_type": "code",
   "execution_count": null,
   "id": "1e6f5d74-2ff3-431f-8835-1572fb8c5aac",
   "metadata": {},
   "outputs": [],
   "source": []
  },
  {
   "cell_type": "code",
   "execution_count": null,
   "id": "45c09142-60da-4dd7-bc26-3e7e851724fc",
   "metadata": {},
   "outputs": [],
   "source": []
  }
 ],
 "metadata": {
  "kernelspec": {
   "display_name": "Python 3 (ipykernel)",
   "language": "python",
   "name": "python3"
  },
  "language_info": {
   "codemirror_mode": {
    "name": "ipython",
    "version": 3
   },
   "file_extension": ".py",
   "mimetype": "text/x-python",
   "name": "python",
   "nbconvert_exporter": "python",
   "pygments_lexer": "ipython3",
   "version": "3.12.7"
  }
 },
 "nbformat": 4,
 "nbformat_minor": 5
}
