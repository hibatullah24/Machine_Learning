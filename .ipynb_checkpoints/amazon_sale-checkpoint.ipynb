{
 "cells": [
  {
   "cell_type": "code",
   "execution_count": 1,
   "id": "9e64ba5e-e25f-4fe1-8208-41b220576727",
   "metadata": {},
   "outputs": [],
   "source": [
    "import pandas as pd\n",
    "import numpy as np\n",
    "import math\n",
    "from scipy.stats import zscore\n",
    "from sklearn.preprocessing import LabelEncoder\n",
    "import matplotlib.pyplot as plt\n",
    "import seaborn as sns\n",
    "import scipy as sp\n",
    "%matplotlib inline\n",
    "import warnings\n",
    "warnings.filterwarnings('ignore')\n",
    "from sklearn.preprocessing import LabelEncoder"
   ]
  },
  {
   "cell_type": "code",
   "execution_count": 2,
   "id": "56d7929c-188c-47cb-a1b4-92cdaea64a30",
   "metadata": {},
   "outputs": [],
   "source": [
    "df = pd.read_csv('amazon.csv', encoding='ISO-8859-1')"
   ]
  },
  {
   "cell_type": "code",
   "execution_count": 3,
   "id": "a40b399b-1922-47ef-9d00-cbcb88fb216c",
   "metadata": {},
   "outputs": [],
   "source": [
    "pd.set_option('display.max_columns', None) "
   ]
  },
  {
   "cell_type": "code",
   "execution_count": 4,
   "id": "36143043-48f2-465d-a4b5-ed5decd3f204",
   "metadata": {},
   "outputs": [
    {
     "data": {
      "text/html": [
       "<div>\n",
       "<style scoped>\n",
       "    .dataframe tbody tr th:only-of-type {\n",
       "        vertical-align: middle;\n",
       "    }\n",
       "\n",
       "    .dataframe tbody tr th {\n",
       "        vertical-align: top;\n",
       "    }\n",
       "\n",
       "    .dataframe thead th {\n",
       "        text-align: right;\n",
       "    }\n",
       "</style>\n",
       "<table border=\"1\" class=\"dataframe\">\n",
       "  <thead>\n",
       "    <tr style=\"text-align: right;\">\n",
       "      <th></th>\n",
       "      <th>product_id</th>\n",
       "      <th>product_name</th>\n",
       "      <th>category</th>\n",
       "      <th>discounted_price</th>\n",
       "      <th>actual_price</th>\n",
       "      <th>discount_percentage</th>\n",
       "      <th>rating</th>\n",
       "      <th>rating_count</th>\n",
       "      <th>about_product</th>\n",
       "      <th>user_id</th>\n",
       "      <th>user_name</th>\n",
       "      <th>review_id</th>\n",
       "      <th>review_content</th>\n",
       "      <th>img_link</th>\n",
       "      <th>product_link</th>\n",
       "    </tr>\n",
       "  </thead>\n",
       "  <tbody>\n",
       "    <tr>\n",
       "      <th>0</th>\n",
       "      <td>B07JW9H4J1</td>\n",
       "      <td>Wayona Nylon Braided</td>\n",
       "      <td>Computers&amp;Accessories</td>\n",
       "      <td>$399</td>\n",
       "      <td>$1,099</td>\n",
       "      <td>64%</td>\n",
       "      <td>4.2</td>\n",
       "      <td>24,269</td>\n",
       "      <td>High Compatibility :</td>\n",
       "      <td>AG3D6O4STA</td>\n",
       "      <td>Manav,Adar</td>\n",
       "      <td>R3HXWT0LRP</td>\n",
       "      <td>Looks durable Charging is fine tooNo complains...</td>\n",
       "      <td>https://m.media-amazon.com/images/W/WEBP_40237...</td>\n",
       "      <td>https://www.amazon.in/Wayona-Braided-WN3LG1-Sy...</td>\n",
       "    </tr>\n",
       "    <tr>\n",
       "      <th>1</th>\n",
       "      <td>B098NS6PVG</td>\n",
       "      <td>Ambrane Unbreakable</td>\n",
       "      <td>Computers&amp;Accessories</td>\n",
       "      <td>$199</td>\n",
       "      <td>$349</td>\n",
       "      <td>43%</td>\n",
       "      <td>4</td>\n",
       "      <td>43,994</td>\n",
       "      <td>Compatible with all</td>\n",
       "      <td>AECPFYFQVR</td>\n",
       "      <td>ArdKn,Nirb</td>\n",
       "      <td>RGIQEG07R9</td>\n",
       "      <td>I ordered this cable to connect my phone to An...</td>\n",
       "      <td>https://m.media-amazon.com/images/W/WEBP_40237...</td>\n",
       "      <td>https://www.amazon.in/Ambrane-Unbreakable-Char...</td>\n",
       "    </tr>\n",
       "    <tr>\n",
       "      <th>2</th>\n",
       "      <td>B096MSW6CT</td>\n",
       "      <td>Sounce Fast Phone Ch</td>\n",
       "      <td>Computers&amp;Accessories</td>\n",
       "      <td>$199</td>\n",
       "      <td>$1,899</td>\n",
       "      <td>90%</td>\n",
       "      <td>3.9</td>\n",
       "      <td>7,928</td>\n",
       "      <td>ã Fast Charger&amp; Da</td>\n",
       "      <td>AGU3BBQ2V2</td>\n",
       "      <td>Kunal,Hima</td>\n",
       "      <td>R3J3EQQ9TZ</td>\n",
       "      <td>Not quite durable and sturdy,https://m.media-a...</td>\n",
       "      <td>https://m.media-amazon.com/images/W/WEBP_40237...</td>\n",
       "      <td>https://www.amazon.in/Sounce-iPhone-Charging-C...</td>\n",
       "    </tr>\n",
       "    <tr>\n",
       "      <th>3</th>\n",
       "      <td>B08HDJ86NZ</td>\n",
       "      <td>boAt Deuce USB 300 2</td>\n",
       "      <td>Computers&amp;Accessories</td>\n",
       "      <td>$329</td>\n",
       "      <td>$699</td>\n",
       "      <td>53%</td>\n",
       "      <td>4.2</td>\n",
       "      <td>94,363</td>\n",
       "      <td>The boAt Deuce USB 3</td>\n",
       "      <td>AEWAZDZZJL</td>\n",
       "      <td>Omkar dhal</td>\n",
       "      <td>R3EEUZKKK9</td>\n",
       "      <td>Good product,long wire,Charges good,Nice,I bou...</td>\n",
       "      <td>https://m.media-amazon.com/images/I/41V5FtEWPk...</td>\n",
       "      <td>https://www.amazon.in/Deuce-300-Resistant-Tang...</td>\n",
       "    </tr>\n",
       "    <tr>\n",
       "      <th>4</th>\n",
       "      <td>B08CF3B7N1</td>\n",
       "      <td>Portronics Konnect L</td>\n",
       "      <td>Computers&amp;Accessories</td>\n",
       "      <td>$154</td>\n",
       "      <td>$399</td>\n",
       "      <td>61%</td>\n",
       "      <td>4.2</td>\n",
       "      <td>16,905</td>\n",
       "      <td>[CHARGE &amp; SYNC FUNCT</td>\n",
       "      <td>AE3Q6KSUK5</td>\n",
       "      <td>rahuls6099</td>\n",
       "      <td>R1BP4L2HH9</td>\n",
       "      <td>Bought this instead of original apple, does th...</td>\n",
       "      <td>https://m.media-amazon.com/images/W/WEBP_40237...</td>\n",
       "      <td>https://www.amazon.in/Portronics-Konnect-POR-1...</td>\n",
       "    </tr>\n",
       "  </tbody>\n",
       "</table>\n",
       "</div>"
      ],
      "text/plain": [
       "   product_id          product_name               category discounted_price  \\\n",
       "0  B07JW9H4J1  Wayona Nylon Braided  Computers&Accessories             $399   \n",
       "1  B098NS6PVG  Ambrane Unbreakable   Computers&Accessories             $199   \n",
       "2  B096MSW6CT  Sounce Fast Phone Ch  Computers&Accessories             $199   \n",
       "3  B08HDJ86NZ  boAt Deuce USB 300 2  Computers&Accessories             $329   \n",
       "4  B08CF3B7N1  Portronics Konnect L  Computers&Accessories             $154   \n",
       "\n",
       "  actual_price discount_percentage rating rating_count         about_product  \\\n",
       "0       $1,099                 64%    4.2       24,269  High Compatibility :   \n",
       "1         $349                 43%      4       43,994  Compatible with all    \n",
       "2       $1,899                 90%    3.9        7,928  ã Fast Charger& Da   \n",
       "3         $699                 53%    4.2       94,363  The boAt Deuce USB 3   \n",
       "4         $399                 61%    4.2       16,905  [CHARGE & SYNC FUNCT   \n",
       "\n",
       "      user_id   user_name   review_id  \\\n",
       "0  AG3D6O4STA  Manav,Adar  R3HXWT0LRP   \n",
       "1  AECPFYFQVR  ArdKn,Nirb  RGIQEG07R9   \n",
       "2  AGU3BBQ2V2  Kunal,Hima  R3J3EQQ9TZ   \n",
       "3  AEWAZDZZJL  Omkar dhal  R3EEUZKKK9   \n",
       "4  AE3Q6KSUK5  rahuls6099  R1BP4L2HH9   \n",
       "\n",
       "                                      review_content  \\\n",
       "0  Looks durable Charging is fine tooNo complains...   \n",
       "1  I ordered this cable to connect my phone to An...   \n",
       "2  Not quite durable and sturdy,https://m.media-a...   \n",
       "3  Good product,long wire,Charges good,Nice,I bou...   \n",
       "4  Bought this instead of original apple, does th...   \n",
       "\n",
       "                                            img_link  \\\n",
       "0  https://m.media-amazon.com/images/W/WEBP_40237...   \n",
       "1  https://m.media-amazon.com/images/W/WEBP_40237...   \n",
       "2  https://m.media-amazon.com/images/W/WEBP_40237...   \n",
       "3  https://m.media-amazon.com/images/I/41V5FtEWPk...   \n",
       "4  https://m.media-amazon.com/images/W/WEBP_40237...   \n",
       "\n",
       "                                        product_link  \n",
       "0  https://www.amazon.in/Wayona-Braided-WN3LG1-Sy...  \n",
       "1  https://www.amazon.in/Ambrane-Unbreakable-Char...  \n",
       "2  https://www.amazon.in/Sounce-iPhone-Charging-C...  \n",
       "3  https://www.amazon.in/Deuce-300-Resistant-Tang...  \n",
       "4  https://www.amazon.in/Portronics-Konnect-POR-1...  "
      ]
     },
     "execution_count": 4,
     "metadata": {},
     "output_type": "execute_result"
    }
   ],
   "source": [
    "df.head()"
   ]
  },
  {
   "cell_type": "code",
   "execution_count": 5,
   "id": "2ffff80f-7df2-4cd0-ac84-5c8913cc6a9e",
   "metadata": {},
   "outputs": [
    {
     "data": {
      "text/plain": [
       "Index(['product_id', 'product_name', 'category', 'discounted_price',\n",
       "       'actual_price', 'discount_percentage', 'rating', 'rating_count',\n",
       "       'about_product', 'user_id', 'user_name', 'review_id', 'review_content',\n",
       "       'img_link', 'product_link'],\n",
       "      dtype='object')"
      ]
     },
     "execution_count": 5,
     "metadata": {},
     "output_type": "execute_result"
    }
   ],
   "source": [
    "df.columns"
   ]
  },
  {
   "cell_type": "code",
   "execution_count": 6,
   "id": "d416e3f7-3251-4494-aab2-4a426dad277a",
   "metadata": {},
   "outputs": [
    {
     "name": "stdout",
     "output_type": "stream",
     "text": [
      "The Number of Row are 1465, and columns are 15\n"
     ]
    }
   ],
   "source": [
    "print(f\"The Number of Row are {df.shape[0]}, and columns are {df.shape[1]}\")"
   ]
  },
  {
   "cell_type": "code",
   "execution_count": 7,
   "id": "13d62454-53ce-4136-b481-988cef6e22f6",
   "metadata": {},
   "outputs": [
    {
     "name": "stdout",
     "output_type": "stream",
     "text": [
      "<class 'pandas.core.frame.DataFrame'>\n",
      "RangeIndex: 1465 entries, 0 to 1464\n",
      "Data columns (total 15 columns):\n",
      " #   Column               Non-Null Count  Dtype \n",
      "---  ------               --------------  ----- \n",
      " 0   product_id           1465 non-null   object\n",
      " 1   product_name         1465 non-null   object\n",
      " 2   category             1465 non-null   object\n",
      " 3   discounted_price     1465 non-null   object\n",
      " 4   actual_price         1465 non-null   object\n",
      " 5   discount_percentage  1465 non-null   object\n",
      " 6   rating               1465 non-null   object\n",
      " 7   rating_count         1463 non-null   object\n",
      " 8   about_product        1465 non-null   object\n",
      " 9   user_id              1465 non-null   object\n",
      " 10  user_name            1465 non-null   object\n",
      " 11  review_id            1465 non-null   object\n",
      " 12  review_content       1465 non-null   object\n",
      " 13  img_link             1465 non-null   object\n",
      " 14  product_link         1465 non-null   object\n",
      "dtypes: object(15)\n",
      "memory usage: 171.8+ KB\n"
     ]
    }
   ],
   "source": [
    "df.info()"
   ]
  },
  {
   "cell_type": "code",
   "execution_count": 8,
   "id": "3e4b56e3-c05c-43ea-9b72-a3d168c9dc12",
   "metadata": {},
   "outputs": [],
   "source": [
    "df['discounted_price'] = df['discounted_price'].str.replace(\"$\",'')\n",
    "df['discounted_price'] = df['discounted_price'].str.replace(\",\",'')\n",
    "df['discounted_price'] = df['discounted_price'].astype('float64')\n",
    "\n",
    "df['actual_price'] = df['actual_price'].str.replace(\"$\",'')\n",
    "df['actual_price'] = df['actual_price'].str.replace(\",\",'')\n",
    "df['actual_price'] = df['actual_price'].astype('float64')"
   ]
  },
  {
   "cell_type": "code",
   "execution_count": 9,
   "id": "6bb0cb3d-ab5a-4eda-b94d-5ad8c37a816a",
   "metadata": {},
   "outputs": [],
   "source": [
    "df['discount_percentage'] = pd.to_numeric(df['discount_percentage'].astype(str).str.replace('%', ''), errors='coerce')\n",
    "df['discount_percentage'] = df['discount_percentage'] / 100"
   ]
  },
  {
   "cell_type": "code",
   "execution_count": 10,
   "id": "e8aa1f45-0e36-43fd-91b3-f8d08c70e686",
   "metadata": {},
   "outputs": [
    {
     "data": {
      "text/plain": [
       "rating\n",
       "4.1    244\n",
       "4.3    230\n",
       "4.2    228\n",
       "4      181\n",
       "3.9    123\n",
       "4.4    123\n",
       "3.8     86\n",
       "4.5     75\n",
       "3.7     42\n",
       "3.6     35\n",
       "3.5     26\n",
       "4.6     17\n",
       "3.3     16\n",
       "3.4     10\n",
       "4.7      6\n",
       "3        4\n",
       "3.1      4\n",
       "5        3\n",
       "4.8      3\n",
       "3.2      2\n",
       "2.8      2\n",
       "2.3      1\n",
       "|        1\n",
       "2        1\n",
       "2.6      1\n",
       "2.9      1\n",
       "Name: count, dtype: int64"
      ]
     },
     "execution_count": 10,
     "metadata": {},
     "output_type": "execute_result"
    }
   ],
   "source": [
    "df['rating'].value_counts()"
   ]
  },
  {
   "cell_type": "code",
   "execution_count": 11,
   "id": "20dc993d-f6bf-4c12-945f-598e6a1c8c0c",
   "metadata": {},
   "outputs": [
    {
     "data": {
      "text/html": [
       "<div>\n",
       "<style scoped>\n",
       "    .dataframe tbody tr th:only-of-type {\n",
       "        vertical-align: middle;\n",
       "    }\n",
       "\n",
       "    .dataframe tbody tr th {\n",
       "        vertical-align: top;\n",
       "    }\n",
       "\n",
       "    .dataframe thead th {\n",
       "        text-align: right;\n",
       "    }\n",
       "</style>\n",
       "<table border=\"1\" class=\"dataframe\">\n",
       "  <thead>\n",
       "    <tr style=\"text-align: right;\">\n",
       "      <th></th>\n",
       "      <th>product_id</th>\n",
       "      <th>product_name</th>\n",
       "      <th>category</th>\n",
       "      <th>discounted_price</th>\n",
       "      <th>actual_price</th>\n",
       "      <th>discount_percentage</th>\n",
       "      <th>rating</th>\n",
       "      <th>rating_count</th>\n",
       "      <th>about_product</th>\n",
       "      <th>user_id</th>\n",
       "      <th>user_name</th>\n",
       "      <th>review_id</th>\n",
       "      <th>review_content</th>\n",
       "      <th>img_link</th>\n",
       "      <th>product_link</th>\n",
       "    </tr>\n",
       "  </thead>\n",
       "  <tbody>\n",
       "    <tr>\n",
       "      <th>1279</th>\n",
       "      <td>B08L12N5H1</td>\n",
       "      <td>Eureka Forbes car Va</td>\n",
       "      <td>Home&amp;Kitchen|Kitchen&amp;</td>\n",
       "      <td>2099.0</td>\n",
       "      <td>2499.0</td>\n",
       "      <td>0.16</td>\n",
       "      <td>|</td>\n",
       "      <td>992</td>\n",
       "      <td>No Installation is p</td>\n",
       "      <td>AGTDSNT2FK</td>\n",
       "      <td>Divya,Dr N</td>\n",
       "      <td>R2KKTKM4M9</td>\n",
       "      <td>Does the job well,doesn't work on sand. though...</td>\n",
       "      <td>https://m.media-amazon.com/images/W/WEBP_40237...</td>\n",
       "      <td>https://www.amazon.in/Eureka-Forbes-Vacuum-Cle...</td>\n",
       "    </tr>\n",
       "  </tbody>\n",
       "</table>\n",
       "</div>"
      ],
      "text/plain": [
       "      product_id          product_name               category  \\\n",
       "1279  B08L12N5H1  Eureka Forbes car Va  Home&Kitchen|Kitchen&   \n",
       "\n",
       "      discounted_price  actual_price  discount_percentage rating rating_count  \\\n",
       "1279            2099.0        2499.0                 0.16      |          992   \n",
       "\n",
       "             about_product     user_id   user_name   review_id  \\\n",
       "1279  No Installation is p  AGTDSNT2FK  Divya,Dr N  R2KKTKM4M9   \n",
       "\n",
       "                                         review_content  \\\n",
       "1279  Does the job well,doesn't work on sand. though...   \n",
       "\n",
       "                                               img_link  \\\n",
       "1279  https://m.media-amazon.com/images/W/WEBP_40237...   \n",
       "\n",
       "                                           product_link  \n",
       "1279  https://www.amazon.in/Eureka-Forbes-Vacuum-Cle...  "
      ]
     },
     "execution_count": 11,
     "metadata": {},
     "output_type": "execute_result"
    }
   ],
   "source": [
    "df.query('rating == \"|\"')"
   ]
  },
  {
   "cell_type": "code",
   "execution_count": 12,
   "id": "786a3f53-2c75-4976-b1be-f33e637080e1",
   "metadata": {},
   "outputs": [],
   "source": [
    "df['rating'] = df['rating'].astype(str).str.replace('|', '3.9').astype('float64')\n",
    "df['rating_count'] = df['rating_count'].astype(str).str.replace(',', '').astype('float64')\n"
   ]
  },
  {
   "cell_type": "code",
   "execution_count": 13,
   "id": "619d3d83-0aea-4b68-a9bf-fef0fed26b07",
   "metadata": {},
   "outputs": [
    {
     "name": "stdout",
     "output_type": "stream",
     "text": [
      "<class 'pandas.core.frame.DataFrame'>\n",
      "RangeIndex: 1465 entries, 0 to 1464\n",
      "Data columns (total 15 columns):\n",
      " #   Column               Non-Null Count  Dtype  \n",
      "---  ------               --------------  -----  \n",
      " 0   product_id           1465 non-null   object \n",
      " 1   product_name         1465 non-null   object \n",
      " 2   category             1465 non-null   object \n",
      " 3   discounted_price     1465 non-null   float64\n",
      " 4   actual_price         1465 non-null   float64\n",
      " 5   discount_percentage  1465 non-null   float64\n",
      " 6   rating               1465 non-null   float64\n",
      " 7   rating_count         1463 non-null   float64\n",
      " 8   about_product        1465 non-null   object \n",
      " 9   user_id              1465 non-null   object \n",
      " 10  user_name            1465 non-null   object \n",
      " 11  review_id            1465 non-null   object \n",
      " 12  review_content       1465 non-null   object \n",
      " 13  img_link             1465 non-null   object \n",
      " 14  product_link         1465 non-null   object \n",
      "dtypes: float64(5), object(10)\n",
      "memory usage: 171.8+ KB\n"
     ]
    }
   ],
   "source": [
    "df.info()"
   ]
  },
  {
   "cell_type": "code",
   "execution_count": 14,
   "id": "4521c8a6-543c-4638-a49f-ef751ffe8892",
   "metadata": {},
   "outputs": [
    {
     "data": {
      "text/html": [
       "<div>\n",
       "<style scoped>\n",
       "    .dataframe tbody tr th:only-of-type {\n",
       "        vertical-align: middle;\n",
       "    }\n",
       "\n",
       "    .dataframe tbody tr th {\n",
       "        vertical-align: top;\n",
       "    }\n",
       "\n",
       "    .dataframe thead th {\n",
       "        text-align: right;\n",
       "    }\n",
       "</style>\n",
       "<table border=\"1\" class=\"dataframe\">\n",
       "  <thead>\n",
       "    <tr style=\"text-align: right;\">\n",
       "      <th></th>\n",
       "      <th>discounted_price</th>\n",
       "      <th>actual_price</th>\n",
       "      <th>discount_percentage</th>\n",
       "      <th>rating</th>\n",
       "      <th>rating_count</th>\n",
       "    </tr>\n",
       "  </thead>\n",
       "  <tbody>\n",
       "    <tr>\n",
       "      <th>count</th>\n",
       "      <td>1465.000000</td>\n",
       "      <td>1465.000000</td>\n",
       "      <td>1465.000000</td>\n",
       "      <td>1465.000000</td>\n",
       "      <td>1463.000000</td>\n",
       "    </tr>\n",
       "    <tr>\n",
       "      <th>mean</th>\n",
       "      <td>3125.310874</td>\n",
       "      <td>5444.990635</td>\n",
       "      <td>0.476915</td>\n",
       "      <td>4.096451</td>\n",
       "      <td>18295.541353</td>\n",
       "    </tr>\n",
       "    <tr>\n",
       "      <th>std</th>\n",
       "      <td>6944.304394</td>\n",
       "      <td>10874.826864</td>\n",
       "      <td>0.216359</td>\n",
       "      <td>0.291620</td>\n",
       "      <td>42753.864952</td>\n",
       "    </tr>\n",
       "    <tr>\n",
       "      <th>min</th>\n",
       "      <td>39.000000</td>\n",
       "      <td>39.000000</td>\n",
       "      <td>0.000000</td>\n",
       "      <td>2.000000</td>\n",
       "      <td>2.000000</td>\n",
       "    </tr>\n",
       "    <tr>\n",
       "      <th>25%</th>\n",
       "      <td>325.000000</td>\n",
       "      <td>800.000000</td>\n",
       "      <td>0.320000</td>\n",
       "      <td>4.000000</td>\n",
       "      <td>1186.000000</td>\n",
       "    </tr>\n",
       "    <tr>\n",
       "      <th>50%</th>\n",
       "      <td>799.000000</td>\n",
       "      <td>1650.000000</td>\n",
       "      <td>0.500000</td>\n",
       "      <td>4.100000</td>\n",
       "      <td>5179.000000</td>\n",
       "    </tr>\n",
       "    <tr>\n",
       "      <th>75%</th>\n",
       "      <td>1999.000000</td>\n",
       "      <td>4295.000000</td>\n",
       "      <td>0.630000</td>\n",
       "      <td>4.300000</td>\n",
       "      <td>17336.500000</td>\n",
       "    </tr>\n",
       "    <tr>\n",
       "      <th>max</th>\n",
       "      <td>77990.000000</td>\n",
       "      <td>139900.000000</td>\n",
       "      <td>0.940000</td>\n",
       "      <td>5.000000</td>\n",
       "      <td>426973.000000</td>\n",
       "    </tr>\n",
       "  </tbody>\n",
       "</table>\n",
       "</div>"
      ],
      "text/plain": [
       "       discounted_price   actual_price  discount_percentage       rating  \\\n",
       "count       1465.000000    1465.000000          1465.000000  1465.000000   \n",
       "mean        3125.310874    5444.990635             0.476915     4.096451   \n",
       "std         6944.304394   10874.826864             0.216359     0.291620   \n",
       "min           39.000000      39.000000             0.000000     2.000000   \n",
       "25%          325.000000     800.000000             0.320000     4.000000   \n",
       "50%          799.000000    1650.000000             0.500000     4.100000   \n",
       "75%         1999.000000    4295.000000             0.630000     4.300000   \n",
       "max        77990.000000  139900.000000             0.940000     5.000000   \n",
       "\n",
       "        rating_count  \n",
       "count    1463.000000  \n",
       "mean    18295.541353  \n",
       "std     42753.864952  \n",
       "min         2.000000  \n",
       "25%      1186.000000  \n",
       "50%      5179.000000  \n",
       "75%     17336.500000  \n",
       "max    426973.000000  "
      ]
     },
     "execution_count": 14,
     "metadata": {},
     "output_type": "execute_result"
    }
   ],
   "source": [
    "df.describe()"
   ]
  },
  {
   "cell_type": "code",
   "execution_count": 15,
   "id": "b06d00e5-ce94-4b67-ba5d-49c4dc4cb191",
   "metadata": {},
   "outputs": [
    {
     "data": {
      "text/plain": [
       "rating_count           2\n",
       "product_id             0\n",
       "product_name           0\n",
       "category               0\n",
       "discounted_price       0\n",
       "actual_price           0\n",
       "discount_percentage    0\n",
       "rating                 0\n",
       "about_product          0\n",
       "user_id                0\n",
       "user_name              0\n",
       "review_id              0\n",
       "review_content         0\n",
       "img_link               0\n",
       "product_link           0\n",
       "dtype: int64"
      ]
     },
     "execution_count": 15,
     "metadata": {},
     "output_type": "execute_result"
    }
   ],
   "source": [
    "df.isnull().sum().sort_values(ascending = False)"
   ]
  },
  {
   "cell_type": "code",
   "execution_count": 16,
   "id": "59e5d164-7013-4f19-a1a2-29a1d872e7ec",
   "metadata": {},
   "outputs": [
    {
     "data": {
      "text/plain": [
       "2"
      ]
     },
     "execution_count": 16,
     "metadata": {},
     "output_type": "execute_result"
    }
   ],
   "source": [
    "df.isnull().sum().sum()"
   ]
  },
  {
   "cell_type": "code",
   "execution_count": 17,
   "id": "d6518d01-b3b4-49ab-9597-01fcc0de2765",
   "metadata": {},
   "outputs": [
    {
     "data": {
      "text/html": [
       "<div>\n",
       "<style scoped>\n",
       "    .dataframe tbody tr th:only-of-type {\n",
       "        vertical-align: middle;\n",
       "    }\n",
       "\n",
       "    .dataframe tbody tr th {\n",
       "        vertical-align: top;\n",
       "    }\n",
       "\n",
       "    .dataframe thead th {\n",
       "        text-align: right;\n",
       "    }\n",
       "</style>\n",
       "<table border=\"1\" class=\"dataframe\">\n",
       "  <thead>\n",
       "    <tr style=\"text-align: right;\">\n",
       "      <th></th>\n",
       "      <th>product_id</th>\n",
       "      <th>product_name</th>\n",
       "      <th>category</th>\n",
       "      <th>discounted_price</th>\n",
       "      <th>actual_price</th>\n",
       "      <th>discount_percentage</th>\n",
       "      <th>rating</th>\n",
       "      <th>rating_count</th>\n",
       "      <th>about_product</th>\n",
       "      <th>user_id</th>\n",
       "      <th>user_name</th>\n",
       "      <th>review_id</th>\n",
       "      <th>review_content</th>\n",
       "      <th>img_link</th>\n",
       "      <th>product_link</th>\n",
       "    </tr>\n",
       "  </thead>\n",
       "  <tbody>\n",
       "    <tr>\n",
       "      <th>282</th>\n",
       "      <td>B0B94JPY2N</td>\n",
       "      <td>Amazon Brand - Solim</td>\n",
       "      <td>Computers&amp;Accessories</td>\n",
       "      <td>199.0</td>\n",
       "      <td>999.0</td>\n",
       "      <td>0.80</td>\n",
       "      <td>3.0</td>\n",
       "      <td>NaN</td>\n",
       "      <td>USB C to C Cable: Th</td>\n",
       "      <td>AE7CFHY23V</td>\n",
       "      <td>Pranav</td>\n",
       "      <td>RUB7U91HVZ</td>\n",
       "      <td>I have a pd supported car charger and I bought...</td>\n",
       "      <td>https://m.media-amazon.com/images/W/WEBP_40237...</td>\n",
       "      <td>https://www.amazon.in/Amazon-Brand-Charging-Su...</td>\n",
       "    </tr>\n",
       "    <tr>\n",
       "      <th>324</th>\n",
       "      <td>B0BQRJ3C47</td>\n",
       "      <td>REDTECH USB-C to Lig</td>\n",
       "      <td>Computers&amp;Accessories</td>\n",
       "      <td>249.0</td>\n",
       "      <td>999.0</td>\n",
       "      <td>0.75</td>\n",
       "      <td>5.0</td>\n",
       "      <td>NaN</td>\n",
       "      <td>ð[The Fastest Cha</td>\n",
       "      <td>AGJC5O5H5B</td>\n",
       "      <td>Abdul Gafu</td>\n",
       "      <td>RQXD5SAMMP</td>\n",
       "      <td>Quick delivery.Awesome ProductPacking was good...</td>\n",
       "      <td>https://m.media-amazon.com/images/I/31-q0xhaTA...</td>\n",
       "      <td>https://www.amazon.in/REDTECH-Lightning-Certif...</td>\n",
       "    </tr>\n",
       "  </tbody>\n",
       "</table>\n",
       "</div>"
      ],
      "text/plain": [
       "     product_id          product_name               category  \\\n",
       "282  B0B94JPY2N  Amazon Brand - Solim  Computers&Accessories   \n",
       "324  B0BQRJ3C47  REDTECH USB-C to Lig  Computers&Accessories   \n",
       "\n",
       "     discounted_price  actual_price  discount_percentage  rating  \\\n",
       "282             199.0         999.0                 0.80     3.0   \n",
       "324             249.0         999.0                 0.75     5.0   \n",
       "\n",
       "     rating_count         about_product     user_id   user_name   review_id  \\\n",
       "282           NaN  USB C to C Cable: Th  AE7CFHY23V      Pranav  RUB7U91HVZ   \n",
       "324           NaN  ð[The Fastest Cha  AGJC5O5H5B  Abdul Gafu  RQXD5SAMMP   \n",
       "\n",
       "                                        review_content  \\\n",
       "282  I have a pd supported car charger and I bought...   \n",
       "324  Quick delivery.Awesome ProductPacking was good...   \n",
       "\n",
       "                                              img_link  \\\n",
       "282  https://m.media-amazon.com/images/W/WEBP_40237...   \n",
       "324  https://m.media-amazon.com/images/I/31-q0xhaTA...   \n",
       "\n",
       "                                          product_link  \n",
       "282  https://www.amazon.in/Amazon-Brand-Charging-Su...  \n",
       "324  https://www.amazon.in/REDTECH-Lightning-Certif...  "
      ]
     },
     "execution_count": 17,
     "metadata": {},
     "output_type": "execute_result"
    }
   ],
   "source": [
    "df[df['rating_count'].isnull()]"
   ]
  },
  {
   "cell_type": "code",
   "execution_count": 18,
   "id": "5f1a9846-0130-4768-8635-c71889c90c54",
   "metadata": {},
   "outputs": [
    {
     "name": "stdout",
     "output_type": "stream",
     "text": [
      "Mean of rating_count: 18295.541353383458\n",
      "Ceiling of mean: 18296\n"
     ]
    }
   ],
   "source": [
    "df['rating_count'] = pd.to_numeric(df['rating_count'], errors='coerce')\n",
    "\n",
    "x = df['rating_count'].mean()\n",
    "xceil = math.ceil(x)\n",
    "df['rating_count'].fillna(value=xceil, inplace=True)\n",
    "\n",
    "print(\"Mean of rating_count:\", x)\n",
    "print(\"Ceiling of mean:\", xceil)"
   ]
  },
  {
   "cell_type": "code",
   "execution_count": 19,
   "id": "069f5b50-4a2f-4ed4-bbf9-29dfd35eca69",
   "metadata": {},
   "outputs": [
    {
     "data": {
      "text/plain": [
       "product_id             0\n",
       "product_name           0\n",
       "category               0\n",
       "discounted_price       0\n",
       "actual_price           0\n",
       "discount_percentage    0\n",
       "rating                 0\n",
       "rating_count           0\n",
       "about_product          0\n",
       "user_id                0\n",
       "user_name              0\n",
       "review_id              0\n",
       "review_content         0\n",
       "img_link               0\n",
       "product_link           0\n",
       "dtype: int64"
      ]
     },
     "execution_count": 19,
     "metadata": {},
     "output_type": "execute_result"
    }
   ],
   "source": [
    "df.isnull().sum().sort_values(ascending = False)"
   ]
  },
  {
   "cell_type": "code",
   "execution_count": 20,
   "id": "e6252bd6-98a4-4e8c-a74b-6332bc25c9cd",
   "metadata": {},
   "outputs": [
    {
     "data": {
      "text/plain": [
       "True"
      ]
     },
     "execution_count": 20,
     "metadata": {},
     "output_type": "execute_result"
    }
   ],
   "source": [
    "df.duplicated().any()"
   ]
  },
  {
   "cell_type": "code",
   "execution_count": 21,
   "id": "3460414f-dee7-4fac-9287-6e3f5ff19598",
   "metadata": {},
   "outputs": [
    {
     "name": "stdout",
     "output_type": "stream",
     "text": [
      "40\n"
     ]
    }
   ],
   "source": [
    "print(df.duplicated().sum())"
   ]
  },
  {
   "cell_type": "code",
   "execution_count": 22,
   "id": "b9c91039-ba1e-4aff-9f5f-f3db240fb398",
   "metadata": {},
   "outputs": [
    {
     "name": "stdout",
     "output_type": "stream",
     "text": [
      "None\n"
     ]
    }
   ],
   "source": [
    "print(df.drop_duplicates(inplace=True))"
   ]
  },
  {
   "cell_type": "code",
   "execution_count": 23,
   "id": "3f3b8620-1f7b-4ac6-9dae-2fffac51f237",
   "metadata": {},
   "outputs": [
    {
     "name": "stdout",
     "output_type": "stream",
     "text": [
      " Product id with highest actual price:\n",
      "product_id                                                    B09WN3SRC7\n",
      "product_name                                        Sony Bravia 164 cm (\n",
      "category                                           Electronics|HomeTheat\n",
      "discounted_price                                                 77990.0\n",
      "actual_price                                                    139900.0\n",
      "discount_percentage                                                 0.44\n",
      "rating                                                               4.7\n",
      "rating_count                                                      5935.0\n",
      "about_product                                       Resolution: 4K Ultra\n",
      "user_id                                                       AF6Z2OYIXR\n",
      "user_name                                                     David P.,D\n",
      "review_id                                                     R16HCZ0W1T\n",
      "review_content         The delivery people were not careful with the ...\n",
      "img_link               https://m.media-amazon.com/images/I/51uVckL1jR...\n",
      "product_link           https://www.amazon.in/Sony-Bravia-inches-Googl...\n",
      "Name: 249, dtype: object\n",
      " Product id with lowest actual price:\n",
      "product_id                                                    B09WN3SRC7\n",
      "product_name                                        Sony Bravia 164 cm (\n",
      "category                                           Electronics|HomeTheat\n",
      "discounted_price                                                 77990.0\n",
      "actual_price                                                    139900.0\n",
      "discount_percentage                                                 0.44\n",
      "rating                                                               4.7\n",
      "rating_count                                                      5935.0\n",
      "about_product                                       Resolution: 4K Ultra\n",
      "user_id                                                       AF6Z2OYIXR\n",
      "user_name                                                     David P.,D\n",
      "review_id                                                     R16HCZ0W1T\n",
      "review_content         The delivery people were not careful with the ...\n",
      "img_link               https://m.media-amazon.com/images/I/51uVckL1jR...\n",
      "product_link           https://www.amazon.in/Sony-Bravia-inches-Googl...\n",
      "Name: 249, dtype: object\n"
     ]
    }
   ],
   "source": [
    "#Display the details of product id with the highest and lowest actual price\n",
    "highest_actual_price = df.loc[df['actual_price'].idxmax()]\n",
    "print(\" Product id with highest actual price:\")\n",
    "print(highest_actual_price)\n",
    "\n",
    "lowest_actual_price = df.loc[df['actual_price'].idxmax()]\n",
    "print(\" Product id with lowest actual price:\")\n",
    "print(lowest_actual_price)"
   ]
  },
  {
   "cell_type": "code",
   "execution_count": 24,
   "id": "084d3e9c-e723-47cb-ad4c-4e6ae2757dfd",
   "metadata": {},
   "outputs": [
    {
     "name": "stdout",
     "output_type": "stream",
     "text": [
      "   product_id  discounted_price  actual_price\n",
      "0  B07JW9H4J1            498.75       1373.75\n",
      "1  B098NS6PVG            248.75        436.25\n",
      "2  B096MSW6CT            248.75       2373.75\n",
      "3  B08HDJ86NZ            411.25        873.75\n",
      "4  B08CF3B7N1            192.50        498.75\n"
     ]
    }
   ],
   "source": [
    "#Increase all columns by 25 % (numarical columns)\n",
    "df['discounted_price'] = pd.to_numeric(df['discounted_price'], errors='coerce')\n",
    "df['discounted_price'].fillna(0, inplace=True)\n",
    "df['actual_price'] = pd.to_numeric(df['actual_price'], errors='coerce') \n",
    "df['actual_price'].fillna(0, inplace=True)\n",
    "\n",
    "df['discounted_price'] = df['discounted_price'] * 1.25\n",
    "df['actual_price'] = df['actual_price'] * 1.25\n",
    "\n",
    "print(df[['product_id', 'discounted_price', 'actual_price']].head())\n"
   ]
  },
  {
   "cell_type": "code",
   "execution_count": 25,
   "id": "41d3322d-dcb8-4ab3-8d7b-b351b9957e54",
   "metadata": {},
   "outputs": [
    {
     "name": "stdout",
     "output_type": "stream",
     "text": [
      "['Computers&Accessories' 'Electronics|HomeTheat' 'Electronics|HomeAudio'\n",
      " 'Electronics|WearableT' 'Electronics|Mobiles&A' 'Electronics|Accessori'\n",
      " 'Electronics|Headphone' 'MusicalInstruments|Mi' 'Electronics|GeneralPu'\n",
      " 'OfficeProducts|Office' 'Home&Kitchen|CraftMat' 'Electronics|Cameras&P'\n",
      " 'HomeImprovement|Elect' 'Toys&Games|Arts&Craft' 'Electronics|PowerAcce'\n",
      " 'Home&Kitchen|Kitchen&' 'Home&Kitchen|Heating,' 'Home&Kitchen|HomeStor'\n",
      " 'Car&Motorbike|CarAcce' 'Health&PersonalCare|H']\n"
     ]
    }
   ],
   "source": [
    "categoryUnique = df['category'].unique()\n",
    "print(categoryUnique)"
   ]
  },
  {
   "cell_type": "code",
   "execution_count": 26,
   "id": "1e08341d-cb49-427d-9d7f-88aa2cf614c8",
   "metadata": {},
   "outputs": [
    {
     "name": "stdout",
     "output_type": "stream",
     "text": [
      "Unique cleaned categories:\n",
      "['electronics cameras', 'homeimprovement elect', 'home kitchen heating,', 'electronics homeaudio', 'electronics wearablet', 'home kitchen craftmat', 'electronics mobiles', 'home kitchen homestor', 'toys games arts craft', 'electronics generalpu', 'home kitchen kitchen', 'electronics headphone', 'electronics accessori', 'electronics hometheat', 'health personalcare', 'motorbike caracce', 'officeproducts office', 'electronics poweracce', 'computers accessories', 'musicalinstruments']\n"
     ]
    }
   ],
   "source": [
    "# Clean the 'category' column\n",
    "df['category'] = (\n",
    "    df['category']\n",
    "    .str.lower() \n",
    "    .str.strip()  \n",
    "    .str.replace('&', ' ')  \n",
    "    .str.replace('|', ' ') \n",
    "    .str.replace(r'\\b\\w{1,3}\\b', '', regex=True)  \n",
    "    .str.replace(r'\\s+', ' ', regex=True)  \n",
    "    .str.strip()  \n",
    ")\n",
    "\n",
    "df = df.dropna(subset=['category'])\n",
    "df = df[df['category'] != '']\n",
    "\n",
    "unique_categories = df['category'].unique()\n",
    "unique_categories = [cat.strip() for cat in unique_categories]  \n",
    "unique_categories = list(set(unique_categories))  \n",
    "\n",
    "print(\"Unique cleaned categories:\")\n",
    "print(unique_categories)"
   ]
  },
  {
   "cell_type": "code",
   "execution_count": 27,
   "id": "da81ec6a-9d57-4ac6-8ad5-b17aab955eac",
   "metadata": {},
   "outputs": [
    {
     "name": "stdout",
     "output_type": "stream",
     "text": [
      "category\n",
      "computers accessories    421\n",
      "home kitchen kitchen     309\n",
      "electronics hometheat    160\n",
      "electronics mobiles      156\n",
      "home kitchen heating,    116\n",
      "electronics wearablet     75\n",
      "electronics headphone     66\n",
      "officeproducts office     31\n",
      "electronics homeaudio     16\n",
      "home kitchen homestor     16\n",
      "electronics cameras       16\n",
      "electronics accessori     14\n",
      "electronics generalpu     14\n",
      "home kitchen craftmat      7\n",
      "homeimprovement elect      2\n",
      "musicalinstruments         2\n",
      "electronics poweracce      1\n",
      "toys games arts craft      1\n",
      "motorbike caracce          1\n",
      "health personalcare        1\n",
      "Name: count, dtype: int64\n",
      "Number of unique values in category is: 20\n"
     ]
    }
   ],
   "source": [
    "print(df['category'].value_counts())\n",
    "print('Number of unique values in category is:', df['category'].nunique())"
   ]
  },
  {
   "cell_type": "code",
   "execution_count": 28,
   "id": "146ac9d2-3f95-476d-90c7-1f8cedb04c5d",
   "metadata": {},
   "outputs": [
    {
     "name": "stdout",
     "output_type": "stream",
     "text": [
      "product_id has 0 ?marks\n",
      "product_name has 0 ?marks\n",
      "category has 0 ?marks\n",
      "discounted_price has 0 ?marks\n",
      "actual_price has 0 ?marks\n",
      "discount_percentage has 0 ?marks\n",
      "rating has 0 ?marks\n",
      "rating_count has 0 ?marks\n",
      "about_product has 0 ?marks\n",
      "user_id has 0 ?marks\n",
      "user_name has 0 ?marks\n",
      "review_id has 0 ?marks\n",
      "review_content has 0 ?marks\n",
      "img_link has 0 ?marks\n",
      "product_link has 0 ?marks\n"
     ]
    }
   ],
   "source": [
    "for column in df.columns:\n",
    "    Mcount = len(df[df[column] == '?'])\n",
    "    print(f\"{column} has {Mcount} ?marks\")"
   ]
  },
  {
   "cell_type": "code",
   "execution_count": 29,
   "id": "5da2dca1-9ff3-4b3e-98a9-69ea07e28a27",
   "metadata": {},
   "outputs": [
    {
     "data": {
      "image/png": "[encoded data removed]",
      "text/plain": [
       "<Figure size 640x480 with 1 Axes>"
      ]
     },
     "metadata": {},
     "output_type": "display_data"
    }
   ],
   "source": [
    "sns.boxplot(x=df['discounted_price'])\n",
    "plt.title('Outliers in Discounted Price')\n",
    "plt.show()"
   ]
  },
  {
   "cell_type": "code",
   "execution_count": 30,
   "id": "43adc2d8-3a21-4674-8002-4cfbbe11fb39",
   "metadata": {},
   "outputs": [
    {
     "data": {
      "image/png": "[encoded data removed]",
      "text/plain": [
       "<Figure size 640x480 with 1 Axes>"
      ]
     },
     "metadata": {},
     "output_type": "display_data"
    }
   ],
   "source": [
    "sns.boxplot(x=df['actual_price'])\n",
    "plt.title('Outliers in Actual Price')\n",
    "plt.show()"
   ]
  },
  {
   "cell_type": "code",
   "execution_count": 302,
   "id": "ba98fa8e-5bfd-4dff-abc6-1f5a1d893c2f",
   "metadata": {},
   "outputs": [
    {
     "data": {
      "text/plain": [
       "Text(0.5, 1.0, 'Boxplot for Discount Percentage')"
      ]
     },
     "execution_count": 302,
     "metadata": {},
     "output_type": "execute_result"
    },
    {
     "data": {
      "image/png": "[encoded data removed]",
      "text/plain": [
       "<Figure size 640x480 with 1 Axes>"
      ]
     },
     "metadata": {},
     "output_type": "display_data"
    }
   ],
   "source": [
    "sns.boxplot(y=df['discount_percentage'])\n",
    "plt.title('Boxplot for Discount Percentage')"
   ]
  },
  {
   "cell_type": "code",
   "execution_count": 342,
   "id": "c24abd5b-1529-41dc-9922-108e17dba2ec",
   "metadata": {},
   "outputs": [
    {
     "data": {
      "image/png": "[encoded data removed]",
      "text/plain": [
       "<Figure size 640x480 with 1 Axes>"
      ]
     },
     "metadata": {},
     "output_type": "display_data"
    }
   ],
   "source": [
    "sns.boxplot(x=df['rating_count'])\n",
    "plt.title('Outliers in RatingCount')\n",
    "plt.show()"
   ]
  },
  {
   "cell_type": "code",
   "execution_count": 304,
   "id": "cde2df26-8ad8-4463-a4b6-47d7bc9cf320",
   "metadata": {},
   "outputs": [
    {
     "name": "stdout",
     "output_type": "stream",
     "text": [
      "Upper limit no. of Discount Price: 30316.81\n",
      "Lower limit no. of Discount Price: -22344.41\n",
      "Number of outliers: 41\n",
      "Records of outliers:\n",
      "      discounted_price\n",
      "38            41248.75\n",
      "61            41237.50\n",
      "72            33748.75\n",
      "85            37498.75\n",
      "86            34998.75\n",
      "87            38737.50\n",
      "91            31248.75\n",
      "108           47498.75\n",
      "124           41248.75\n",
      "135           38737.50\n",
      "150           37487.50\n",
      "171           41248.75\n",
      "192           59987.50\n",
      "197           31248.75\n",
      "216           53748.75\n",
      "231           39998.75\n",
      "232           41237.50\n",
      "249           97487.50\n",
      "255           68737.50\n",
      "270           44998.75\n",
      "276           57498.75\n",
      "283           59987.50\n",
      "292           41237.50\n",
      "295           37498.75\n",
      "306           33748.75\n",
      "323           31237.50\n",
      "325           77498.75\n",
      "326           30623.75\n",
      "332           58748.75\n",
      "339           36248.75\n",
      "340           36248.75\n",
      "394           36248.75\n",
      "406           42498.75\n",
      "410           43748.75\n",
      "533           56248.75\n",
      "544           37487.50\n",
      "568           47487.50\n",
      "976           33748.75\n",
      "1014          46558.75\n",
      "1306          34875.00\n",
      "1354          53737.50\n"
     ]
    }
   ],
   "source": [
    "# Outliers of discount_price:\n",
    "upper_limit_discounted_price = round(df['discounted_price'].mean() + 3 * df['discounted_price'].std(), 2)  \n",
    "lower_limit_discounted_price = round(df['discounted_price'].mean() - 3 * df['discounted_price'].std(), 2)  \n",
    "\n",
    "print('Upper limit no. of Discount Price:', upper_limit_discounted_price)\n",
    "print('Lower limit no. of Discount Price:', lower_limit_discounted_price)\n",
    "\n",
    "outliers = df[(df['discounted_price'] > upper_limit_discounted_price) | (df['discounted_price'] < lower_limit_discounted_price)]\n",
    "print('Number of outliers:', len(outliers))\n",
    "\n",
    "print(\"Records of outliers:\")\n",
    "print(outliers[['discounted_price']])"
   ]
  },
  {
   "cell_type": "code",
   "execution_count": 305,
   "id": "313a3870-7bf3-46a9-ba4a-a779d7cbdc4e",
   "metadata": {},
   "outputs": [
    {
     "name": "stdout",
     "output_type": "stream",
     "text": [
      "Upper limit no. of Actual Price: 48156.51\n",
      "Lower limit no. of Actual Price: -34294.98\n",
      "Number of outliers: 37\n",
      "Records of outliers:\n",
      "      actual_price\n",
      "38        57498.75\n",
      "61        59875.00\n",
      "72        53748.75\n",
      "85        49998.75\n",
      "86        51237.50\n",
      "87        66125.00\n",
      "94        51237.50\n",
      "108       81250.00\n",
      "123       56237.50\n",
      "124       56248.75\n",
      "135       62487.50\n",
      "150       81250.00\n",
      "171       59987.50\n",
      "192       88625.00\n",
      "216       74998.75\n",
      "231       62498.75\n",
      "232       70987.50\n",
      "249      174875.00\n",
      "255      106250.00\n",
      "270       62487.50\n",
      "276       87375.00\n",
      "283       99987.50\n",
      "292       68737.50\n",
      "295       63748.75\n",
      "306       53748.75\n",
      "323       64987.50\n",
      "325       87498.75\n",
      "326       62500.00\n",
      "332       87498.75\n",
      "410       48748.75\n",
      "533       62498.75\n",
      "544       49987.50\n",
      "568       93748.75\n",
      "1014      74862.50\n",
      "1182      74875.00\n",
      "1306      74875.00\n",
      "1354      94987.50\n"
     ]
    }
   ],
   "source": [
    "# Outliers of actual_price:\n",
    "upper_limit_actual_price = round(df['actual_price'].mean() + 3 * df['actual_price'].std(), 2)  \n",
    "lower_limit_actual_price = round(df['actual_price'].mean() - 3 * df['actual_price'].std(), 2)  \n",
    "\n",
    "print('Upper limit no. of Actual Price:', upper_limit_actual_price)\n",
    "print('Lower limit no. of Actual Price:', lower_limit_actual_price)\n",
    "\n",
    "outliers = df[(df['actual_price'] > upper_limit_actual_price) | (df['actual_price'] < lower_limit_actual_price)]\n",
    "print('Number of outliers:', len(outliers))\n",
    "\n",
    "print(\"Records of outliers:\")\n",
    "print(outliers[['actual_price']])"
   ]
  },
  {
   "cell_type": "code",
   "execution_count": 306,
   "id": "8c432c4a-1b89-41a5-bc2e-eac188139b51",
   "metadata": {},
   "outputs": [
    {
     "name": "stdout",
     "output_type": "stream",
     "text": [
      "Upper limit no. of discount percentage: 1.12\n",
      "Lower limit no. of discount percentage: -0.18\n",
      "Number of outliers: 0\n",
      "Records of outliers:\n",
      "Empty DataFrame\n",
      "Columns: [actual_price]\n",
      "Index: []\n"
     ]
    }
   ],
   "source": [
    "# Outliers of discount_percentage:\n",
    "upper_limit_discount_percentage = round(df['discount_percentage'].mean() + 3 * df['discount_percentage'].std(), 2)  \n",
    "lower_limit_discount_percentage = round(df['discount_percentage'].mean() - 3 * df['discount_percentage'].std(), 2)  \n",
    "\n",
    "print('Upper limit no. of discount percentage:', upper_limit_discount_percentage)\n",
    "print('Lower limit no. of discount percentage:', lower_limit_discount_percentage)\n",
    "\n",
    "outliers = df[(df['discount_percentage'] > upper_limit_discount_percentage) | (df['actual_price'] < lower_limit_discount_percentage)]\n",
    "print('Number of outliers:', len(outliers))\n",
    "\n",
    "print(\"Records of outliers:\")\n",
    "print(outliers[['actual_price']])"
   ]
  },
  {
   "cell_type": "code",
   "execution_count": 307,
   "id": "4998e6d3-1bc2-428e-8082-38bdef086aa9",
   "metadata": {},
   "outputs": [
    {
     "name": "stdout",
     "output_type": "stream",
     "text": [
      "Upper limit no. of rating count: 148092.02\n",
      "Lower limit no. of rating count: -111187.24\n",
      "Number of outliers: 1425\n",
      "Records of outliers:\n",
      "      actual_price\n",
      "0          1373.75\n",
      "1           436.25\n",
      "2          2373.75\n",
      "3           873.75\n",
      "4           498.75\n",
      "...            ...\n",
      "1460       1148.75\n",
      "1461       3806.25\n",
      "1462       3850.00\n",
      "1463       2362.50\n",
      "1464       4612.50\n",
      "\n",
      "[1425 rows x 1 columns]\n"
     ]
    }
   ],
   "source": [
    "# Outliers of rating_count:\n",
    "upper_limit_rating_count = round(df['rating_count'].mean() + 3 * df['rating_count'].std(), 2)  \n",
    "lower_limit_rating_count = round(df['rating_count'].mean() - 3 * df['rating_count'].std(), 2)  \n",
    "\n",
    "print('Upper limit no. of rating count:', upper_limit_rating_count)\n",
    "print('Lower limit no. of rating count:', lower_limit_rating_count)\n",
    "\n",
    "outliers = df[(df['rating_count'] > upper_limit_discount_percentage) | (df['rating_count'] < lower_limit_discount_percentage)]\n",
    "print('Number of outliers:', len(outliers))\n",
    "\n",
    "print(\"Records of outliers:\")\n",
    "print(outliers[['actual_price']])"
   ]
  },
  {
   "cell_type": "code",
   "execution_count": 308,
   "id": "da1df383-e3cc-4ef0-8358-02e5e466c311",
   "metadata": {},
   "outputs": [
    {
     "name": "stdout",
     "output_type": "stream",
     "text": [
      "IQR 2128.75\n",
      "Lower Limit discounted price: -2780.62\n",
      "Upper Limit discounted price: 5734.38\n",
      "Number of outliers: 1425\n",
      "Records of outliers:\n",
      "      discounted_price\n",
      "0               498.75\n",
      "1               248.75\n",
      "2               248.75\n",
      "3               411.25\n",
      "4               192.50\n",
      "...                ...\n",
      "1460            473.75\n",
      "1461           2850.00\n",
      "1462           2773.75\n",
      "1463           1748.75\n",
      "1464           3578.75\n",
      "\n",
      "[1425 rows x 1 columns]\n"
     ]
    }
   ],
   "source": [
    "#IQR discounted_price\n",
    "Q1=df['discounted_price'].quantile(0.25)\n",
    "Q2=df['discounted_price'].quantile(0.75)\n",
    "IQR = Q2-Q1\n",
    "print('IQR', IQR)\n",
    "\n",
    "lower_limit1_discounted_price = Q1 - 1.5 * IQR\n",
    "upper_limit1_discounted_price = Q2+ 1.5 * IQR\n",
    "\n",
    "print('Lower Limit discounted price:', round(lower_limit1_discounted_price, 2))\n",
    "print('Upper Limit discounted price:', round(upper_limit1_discounted_price, 2))\n",
    "\n",
    "\n",
    "outliers = df[(df['discounted_price'] > lower_limit1_discounted_price) | (df['discounted_price'] < lower_limit1_discounted_price)]\n",
    "print('Number of outliers:', len(outliers))\n",
    "print(\"Records of outliers:\")\n",
    "print(outliers[['discounted_price']])"
   ]
  },
  {
   "cell_type": "code",
   "execution_count": 309,
   "id": "caeb89c6-8927-4674-a66f-1ce1f85f1a61",
   "metadata": {},
   "outputs": [
    {
     "name": "stdout",
     "output_type": "stream",
     "text": [
      "IQR 4542.5\n",
      "Lower Limit actual price: -5737.5\n",
      "Upper Limit actual price: 12432.5\n",
      "Number of outliers: 1425\n",
      "Records of outliers:\n",
      "      actual_price\n",
      "0          1373.75\n",
      "1           436.25\n",
      "2          2373.75\n",
      "3           873.75\n",
      "4           498.75\n",
      "...            ...\n",
      "1460       1148.75\n",
      "1461       3806.25\n",
      "1462       3850.00\n",
      "1463       2362.50\n",
      "1464       4612.50\n",
      "\n",
      "[1425 rows x 1 columns]\n"
     ]
    }
   ],
   "source": [
    "#IQR actual_price\n",
    "Q1=df['actual_price'].quantile(0.25)\n",
    "Q2=df['actual_price'].quantile(0.75)\n",
    "IQR = Q2-Q1\n",
    "print('IQR', IQR)\n",
    "\n",
    "lower_limit1_actual_price = Q1 - 1.5 * IQR\n",
    "upper_limit1_actual_price = Q2+ 1.5 * IQR\n",
    "\n",
    "print('Lower Limit actual price:', round(lower_limit1_actual_price, 2))\n",
    "print('Upper Limit actual price:', round(upper_limit1_actual_price, 2))\n",
    "\n",
    "\n",
    "outliers = df[(df['actual_price'] > lower_limit1_actual_price) | (df['actual_price'] < lower_limit1_actual_price)]\n",
    "print('Number of outliers:', len(outliers))\n",
    "print(\"Records of outliers:\")\n",
    "print(outliers[['actual_price']])"
   ]
  },
  {
   "cell_type": "code",
   "execution_count": 310,
   "id": "2355b90e-3277-42e9-878a-4476283e5c70",
   "metadata": {},
   "outputs": [
    {
     "name": "stdout",
     "output_type": "stream",
     "text": [
      "max of actual price: 174875.0\n",
      "min of actual price: 48.75\n"
     ]
    }
   ],
   "source": [
    "max_actual_price = df['actual_price'].max()\n",
    "print('max of actual price:', max_actual_price)\n",
    "\n",
    "min_actual_price = df['actual_price'].min()\n",
    "print('min of actual price:', min_actual_price)"
   ]
  },
  {
   "cell_type": "code",
   "execution_count": 311,
   "id": "e17026f8-67e6-4324-9f16-22cff1e8ce5a",
   "metadata": {},
   "outputs": [
    {
     "name": "stdout",
     "output_type": "stream",
     "text": [
      "IQR 0.31\n",
      "Lower Limit discount percentage: -0.14\n",
      "Upper Limit discount percentage: 1.1\n",
      "Number of outliers: 1425\n",
      "Records of outliers:\n",
      "      discount_percentage\n",
      "0                    0.64\n",
      "1                    0.43\n",
      "2                    0.90\n",
      "3                    0.53\n",
      "4                    0.61\n",
      "...                   ...\n",
      "1460                 0.59\n",
      "1461                 0.25\n",
      "1462                 0.28\n",
      "1463                 0.26\n",
      "1464                 0.22\n",
      "\n",
      "[1425 rows x 1 columns]\n"
     ]
    }
   ],
   "source": [
    "#IQR discount_percentage\n",
    "Q1=df['discount_percentage'].quantile(0.25)\n",
    "Q2=df['discount_percentage'].quantile(0.75)\n",
    "IQR = Q2-Q1\n",
    "print('IQR', IQR)\n",
    "\n",
    "lower_limit1_discount_percentage = Q1 - 1.5 * IQR\n",
    "upper_limit1_discount_percentage = Q2+ 1.5 * IQR\n",
    "\n",
    "print('Lower Limit discount percentage:', round(lower_limit1_discount_percentage, 2))\n",
    "print('Upper Limit discount percentage:', round(upper_limit1_discount_percentage, 2))\n",
    "\n",
    "\n",
    "outliers = df[(df['discount_percentage'] > lower_limit1_discount_percentage) | (df['discount_percentage'] < lower_limit1_discount_percentage)]\n",
    "print('Number of outliers:', len(outliers))\n",
    "print(\"Records of outliers:\")\n",
    "print(outliers[['discount_percentage']])"
   ]
  },
  {
   "cell_type": "code",
   "execution_count": 312,
   "id": "9844d251-e3f0-49d6-83f0-b6118122aac3",
   "metadata": {},
   "outputs": [
    {
     "name": "stdout",
     "output_type": "stream",
     "text": [
      "max of discount percentage: 0.94\n",
      "min of discount percentage: 0.0\n"
     ]
    }
   ],
   "source": [
    "max_discount_percentage = df['discount_percentage'].max()\n",
    "print('max of discount percentage:', max_discount_percentage)\n",
    "\n",
    "min_discount_percentage = df['discount_percentage'].min()\n",
    "print('min of discount percentage:', min_discount_percentage)"
   ]
  },
  {
   "cell_type": "code",
   "execution_count": 313,
   "id": "2eadfb6a-4296-40cb-931b-add997020a58",
   "metadata": {},
   "outputs": [
    {
     "name": "stdout",
     "output_type": "stream",
     "text": [
      "IQR 16213.0\n",
      "Lower Limit rating_count: -23138.5\n",
      "Upper Limit rating_count: 41713.5\n",
      "Number of outliers: 1425\n",
      "Records of outliers:\n",
      "      rating_count\n",
      "0          24269.0\n",
      "1          43994.0\n",
      "2           7928.0\n",
      "3          94363.0\n",
      "4          16905.0\n",
      "...            ...\n",
      "1460        1090.0\n",
      "1461        4118.0\n",
      "1462         468.0\n",
      "1463        8031.0\n",
      "1464        6987.0\n",
      "\n",
      "[1425 rows x 1 columns]\n"
     ]
    }
   ],
   "source": [
    "#IQR rating_count\n",
    "Q1=df['rating_count'].quantile(0.25)\n",
    "Q2=df['rating_count'].quantile(0.75)\n",
    "IQR = Q2-Q1\n",
    "print('IQR', IQR)\n",
    "\n",
    "lower_limit1_rating_count = Q1 - 1.5 * IQR\n",
    "upper_limit1_rating_count = Q2+ 1.5 * IQR\n",
    "\n",
    "print('Lower Limit rating_count:', round(lower_limit1_rating_count, 2))\n",
    "print('Upper Limit rating_count:', round(upper_limit1_rating_count, 2))\n",
    "\n",
    "\n",
    "outliers = df[(df['rating_count'] > lower_limit1_rating_count) | (df['rating_count'] < lower_limit1_rating_count)]\n",
    "print('Number of outliers:', len(outliers))\n",
    "print(\"Records of outliers:\")\n",
    "print(outliers[['rating_count']])"
   ]
  },
  {
   "cell_type": "code",
   "execution_count": 314,
   "id": "5e137182-183c-4dfd-b8e2-f2050aa39133",
   "metadata": {},
   "outputs": [
    {
     "name": "stdout",
     "output_type": "stream",
     "text": [
      "max of rating count: 426973.0\n",
      "min of rating count: 2.0\n"
     ]
    }
   ],
   "source": [
    "max_rating_count = df['rating_count'].max()\n",
    "print('max of rating count:', max_rating_count)\n",
    "\n",
    "min_rating_count = df['rating_count'].min()\n",
    "print('min of rating count:', min_rating_count)"
   ]
  },
  {
   "cell_type": "code",
   "execution_count": 315,
   "id": "e39cbac3-1fbf-478e-b301-6fba81acf1b3",
   "metadata": {},
   "outputs": [
    {
     "data": {
      "text/html": [
       "<div>\n",
       "<style scoped>\n",
       "    .dataframe tbody tr th:only-of-type {\n",
       "        vertical-align: middle;\n",
       "    }\n",
       "\n",
       "    .dataframe tbody tr th {\n",
       "        vertical-align: top;\n",
       "    }\n",
       "\n",
       "    .dataframe thead th {\n",
       "        text-align: right;\n",
       "    }\n",
       "</style>\n",
       "<table border=\"1\" class=\"dataframe\">\n",
       "  <thead>\n",
       "    <tr style=\"text-align: right;\">\n",
       "      <th></th>\n",
       "      <th>discounted_price</th>\n",
       "      <th>actual_price</th>\n",
       "      <th>discount_percentage</th>\n",
       "      <th>rating</th>\n",
       "      <th>rating_count</th>\n",
       "    </tr>\n",
       "  </thead>\n",
       "  <tbody>\n",
       "    <tr>\n",
       "      <th>count</th>\n",
       "      <td>1425.000000</td>\n",
       "      <td>1425.000000</td>\n",
       "      <td>1425.000000</td>\n",
       "      <td>1425.000000</td>\n",
       "      <td>1425.000000</td>\n",
       "    </tr>\n",
       "    <tr>\n",
       "      <th>mean</th>\n",
       "      <td>3570.334911</td>\n",
       "      <td>6930.763404</td>\n",
       "      <td>0.473375</td>\n",
       "      <td>4.094386</td>\n",
       "      <td>18452.392281</td>\n",
       "    </tr>\n",
       "    <tr>\n",
       "      <th>std</th>\n",
       "      <td>6609.434560</td>\n",
       "      <td>13741.915859</td>\n",
       "      <td>0.216355</td>\n",
       "      <td>0.292887</td>\n",
       "      <td>43213.210258</td>\n",
       "    </tr>\n",
       "    <tr>\n",
       "      <th>min</th>\n",
       "      <td>48.750000</td>\n",
       "      <td>48.750000</td>\n",
       "      <td>0.000000</td>\n",
       "      <td>2.000000</td>\n",
       "      <td>2.000000</td>\n",
       "    </tr>\n",
       "    <tr>\n",
       "      <th>25%</th>\n",
       "      <td>412.500000</td>\n",
       "      <td>1076.250000</td>\n",
       "      <td>0.320000</td>\n",
       "      <td>4.000000</td>\n",
       "      <td>1181.000000</td>\n",
       "    </tr>\n",
       "    <tr>\n",
       "      <th>50%</th>\n",
       "      <td>1061.237500</td>\n",
       "      <td>2123.750000</td>\n",
       "      <td>0.500000</td>\n",
       "      <td>4.100000</td>\n",
       "      <td>5178.000000</td>\n",
       "    </tr>\n",
       "    <tr>\n",
       "      <th>75%</th>\n",
       "      <td>2541.250000</td>\n",
       "      <td>5618.750000</td>\n",
       "      <td>0.630000</td>\n",
       "      <td>4.300000</td>\n",
       "      <td>17394.000000</td>\n",
       "    </tr>\n",
       "    <tr>\n",
       "      <th>max</th>\n",
       "      <td>30316.810000</td>\n",
       "      <td>174875.000000</td>\n",
       "      <td>0.940000</td>\n",
       "      <td>5.000000</td>\n",
       "      <td>426973.000000</td>\n",
       "    </tr>\n",
       "  </tbody>\n",
       "</table>\n",
       "</div>"
      ],
      "text/plain": [
       "       discounted_price   actual_price  discount_percentage       rating  \\\n",
       "count       1425.000000    1425.000000          1425.000000  1425.000000   \n",
       "mean        3570.334911    6930.763404             0.473375     4.094386   \n",
       "std         6609.434560   13741.915859             0.216355     0.292887   \n",
       "min           48.750000      48.750000             0.000000     2.000000   \n",
       "25%          412.500000    1076.250000             0.320000     4.000000   \n",
       "50%         1061.237500    2123.750000             0.500000     4.100000   \n",
       "75%         2541.250000    5618.750000             0.630000     4.300000   \n",
       "max        30316.810000  174875.000000             0.940000     5.000000   \n",
       "\n",
       "        rating_count  \n",
       "count    1425.000000  \n",
       "mean    18452.392281  \n",
       "std     43213.210258  \n",
       "min         2.000000  \n",
       "25%      1181.000000  \n",
       "50%      5178.000000  \n",
       "75%     17394.000000  \n",
       "max    426973.000000  "
      ]
     },
     "execution_count": 315,
     "metadata": {},
     "output_type": "execute_result"
    }
   ],
   "source": [
    "df['discounted_price'] = np.where(df['discounted_price'] > upper_limit_discounted_price,upper_limit_discounted_price, \n",
    "                         np.where(df['discounted_price'] < lower_limit_discounted_price,lower_limit_discounted_price, \n",
    "                                  df['discounted_price']))\n",
    "\n",
    "\n",
    "df.describe()"
   ]
  },
  {
   "cell_type": "code",
   "execution_count": 316,
   "id": "8a0c4734-10c0-4d87-8628-cc5bb979a792",
   "metadata": {},
   "outputs": [
    {
     "data": {
      "text/html": [
       "<div>\n",
       "<style scoped>\n",
       "    .dataframe tbody tr th:only-of-type {\n",
       "        vertical-align: middle;\n",
       "    }\n",
       "\n",
       "    .dataframe tbody tr th {\n",
       "        vertical-align: top;\n",
       "    }\n",
       "\n",
       "    .dataframe thead th {\n",
       "        text-align: right;\n",
       "    }\n",
       "</style>\n",
       "<table border=\"1\" class=\"dataframe\">\n",
       "  <thead>\n",
       "    <tr style=\"text-align: right;\">\n",
       "      <th></th>\n",
       "      <th>discounted_price</th>\n",
       "      <th>actual_price</th>\n",
       "      <th>discount_percentage</th>\n",
       "      <th>rating</th>\n",
       "      <th>rating_count</th>\n",
       "    </tr>\n",
       "  </thead>\n",
       "  <tbody>\n",
       "    <tr>\n",
       "      <th>count</th>\n",
       "      <td>1425.000000</td>\n",
       "      <td>1425.000000</td>\n",
       "      <td>1425.000000</td>\n",
       "      <td>1425.000000</td>\n",
       "      <td>1425.000000</td>\n",
       "    </tr>\n",
       "    <tr>\n",
       "      <th>mean</th>\n",
       "      <td>3570.334911</td>\n",
       "      <td>6301.443839</td>\n",
       "      <td>0.473375</td>\n",
       "      <td>4.094386</td>\n",
       "      <td>18452.392281</td>\n",
       "    </tr>\n",
       "    <tr>\n",
       "      <th>std</th>\n",
       "      <td>6609.434560</td>\n",
       "      <td>10375.106026</td>\n",
       "      <td>0.216355</td>\n",
       "      <td>0.292887</td>\n",
       "      <td>43213.210258</td>\n",
       "    </tr>\n",
       "    <tr>\n",
       "      <th>min</th>\n",
       "      <td>48.750000</td>\n",
       "      <td>48.750000</td>\n",
       "      <td>0.000000</td>\n",
       "      <td>2.000000</td>\n",
       "      <td>2.000000</td>\n",
       "    </tr>\n",
       "    <tr>\n",
       "      <th>25%</th>\n",
       "      <td>412.500000</td>\n",
       "      <td>1076.250000</td>\n",
       "      <td>0.320000</td>\n",
       "      <td>4.000000</td>\n",
       "      <td>1181.000000</td>\n",
       "    </tr>\n",
       "    <tr>\n",
       "      <th>50%</th>\n",
       "      <td>1061.237500</td>\n",
       "      <td>2123.750000</td>\n",
       "      <td>0.500000</td>\n",
       "      <td>4.100000</td>\n",
       "      <td>5178.000000</td>\n",
       "    </tr>\n",
       "    <tr>\n",
       "      <th>75%</th>\n",
       "      <td>2541.250000</td>\n",
       "      <td>5618.750000</td>\n",
       "      <td>0.630000</td>\n",
       "      <td>4.300000</td>\n",
       "      <td>17394.000000</td>\n",
       "    </tr>\n",
       "    <tr>\n",
       "      <th>max</th>\n",
       "      <td>30316.810000</td>\n",
       "      <td>48156.510000</td>\n",
       "      <td>0.940000</td>\n",
       "      <td>5.000000</td>\n",
       "      <td>426973.000000</td>\n",
       "    </tr>\n",
       "  </tbody>\n",
       "</table>\n",
       "</div>"
      ],
      "text/plain": [
       "       discounted_price  actual_price  discount_percentage       rating  \\\n",
       "count       1425.000000   1425.000000          1425.000000  1425.000000   \n",
       "mean        3570.334911   6301.443839             0.473375     4.094386   \n",
       "std         6609.434560  10375.106026             0.216355     0.292887   \n",
       "min           48.750000     48.750000             0.000000     2.000000   \n",
       "25%          412.500000   1076.250000             0.320000     4.000000   \n",
       "50%         1061.237500   2123.750000             0.500000     4.100000   \n",
       "75%         2541.250000   5618.750000             0.630000     4.300000   \n",
       "max        30316.810000  48156.510000             0.940000     5.000000   \n",
       "\n",
       "        rating_count  \n",
       "count    1425.000000  \n",
       "mean    18452.392281  \n",
       "std     43213.210258  \n",
       "min         2.000000  \n",
       "25%      1181.000000  \n",
       "50%      5178.000000  \n",
       "75%     17394.000000  \n",
       "max    426973.000000  "
      ]
     },
     "execution_count": 316,
     "metadata": {},
     "output_type": "execute_result"
    }
   ],
   "source": [
    "df['actual_price'] = np.where(df['actual_price'] > upper_limit_actual_price,upper_limit_actual_price, \n",
    "                         np.where(df['actual_price'] < lower_limit_actual_price,lower_limit_actual_price, \n",
    "                                  df['actual_price']))\n",
    "\n",
    "\n",
    "df.describe()"
   ]
  },
  {
   "cell_type": "code",
   "execution_count": 241,
   "id": "5aeb06b8-6010-4493-9ba3-5eacab56a550",
   "metadata": {},
   "outputs": [
    {
     "data": {
      "text/html": [
       "<div>\n",
       "<style scoped>\n",
       "    .dataframe tbody tr th:only-of-type {\n",
       "        vertical-align: middle;\n",
       "    }\n",
       "\n",
       "    .dataframe tbody tr th {\n",
       "        vertical-align: top;\n",
       "    }\n",
       "\n",
       "    .dataframe thead th {\n",
       "        text-align: right;\n",
       "    }\n",
       "</style>\n",
       "<table border=\"1\" class=\"dataframe\">\n",
       "  <thead>\n",
       "    <tr style=\"text-align: right;\">\n",
       "      <th></th>\n",
       "      <th>discounted_price</th>\n",
       "      <th>actual_price</th>\n",
       "      <th>discount_percentage</th>\n",
       "      <th>rating</th>\n",
       "      <th>rating_count</th>\n",
       "    </tr>\n",
       "  </thead>\n",
       "  <tbody>\n",
       "    <tr>\n",
       "      <th>count</th>\n",
       "      <td>1425.000000</td>\n",
       "      <td>1425.000000</td>\n",
       "      <td>1425.000000</td>\n",
       "      <td>1425.000000</td>\n",
       "      <td>1425.000000</td>\n",
       "    </tr>\n",
       "    <tr>\n",
       "      <th>mean</th>\n",
       "      <td>0.473375</td>\n",
       "      <td>6301.443839</td>\n",
       "      <td>0.473375</td>\n",
       "      <td>4.094386</td>\n",
       "      <td>18452.392281</td>\n",
       "    </tr>\n",
       "    <tr>\n",
       "      <th>std</th>\n",
       "      <td>0.216355</td>\n",
       "      <td>10375.106026</td>\n",
       "      <td>0.216355</td>\n",
       "      <td>0.292887</td>\n",
       "      <td>43213.210258</td>\n",
       "    </tr>\n",
       "    <tr>\n",
       "      <th>min</th>\n",
       "      <td>0.000000</td>\n",
       "      <td>48.750000</td>\n",
       "      <td>0.000000</td>\n",
       "      <td>2.000000</td>\n",
       "      <td>2.000000</td>\n",
       "    </tr>\n",
       "    <tr>\n",
       "      <th>25%</th>\n",
       "      <td>0.320000</td>\n",
       "      <td>1076.250000</td>\n",
       "      <td>0.320000</td>\n",
       "      <td>4.000000</td>\n",
       "      <td>1181.000000</td>\n",
       "    </tr>\n",
       "    <tr>\n",
       "      <th>50%</th>\n",
       "      <td>0.500000</td>\n",
       "      <td>2123.750000</td>\n",
       "      <td>0.500000</td>\n",
       "      <td>4.100000</td>\n",
       "      <td>5178.000000</td>\n",
       "    </tr>\n",
       "    <tr>\n",
       "      <th>75%</th>\n",
       "      <td>0.630000</td>\n",
       "      <td>5618.750000</td>\n",
       "      <td>0.630000</td>\n",
       "      <td>4.300000</td>\n",
       "      <td>17394.000000</td>\n",
       "    </tr>\n",
       "    <tr>\n",
       "      <th>max</th>\n",
       "      <td>0.940000</td>\n",
       "      <td>48156.510000</td>\n",
       "      <td>0.940000</td>\n",
       "      <td>5.000000</td>\n",
       "      <td>426973.000000</td>\n",
       "    </tr>\n",
       "  </tbody>\n",
       "</table>\n",
       "</div>"
      ],
      "text/plain": [
       "       discounted_price  actual_price  discount_percentage       rating  \\\n",
       "count       1425.000000   1425.000000          1425.000000  1425.000000   \n",
       "mean           0.473375   6301.443839             0.473375     4.094386   \n",
       "std            0.216355  10375.106026             0.216355     0.292887   \n",
       "min            0.000000     48.750000             0.000000     2.000000   \n",
       "25%            0.320000   1076.250000             0.320000     4.000000   \n",
       "50%            0.500000   2123.750000             0.500000     4.100000   \n",
       "75%            0.630000   5618.750000             0.630000     4.300000   \n",
       "max            0.940000  48156.510000             0.940000     5.000000   \n",
       "\n",
       "        rating_count  \n",
       "count    1425.000000  \n",
       "mean    18452.392281  \n",
       "std     43213.210258  \n",
       "min         2.000000  \n",
       "25%      1181.000000  \n",
       "50%      5178.000000  \n",
       "75%     17394.000000  \n",
       "max    426973.000000  "
      ]
     },
     "execution_count": 241,
     "metadata": {},
     "output_type": "execute_result"
    }
   ],
   "source": [
    "df['discounted_price'] = np.where(df['discount_percentage'] > upper_limit_discount_percentage,upper_limit_discount_percentage, \n",
    "                         np.where(df['discount_percentage'] < lower_limit_discount_percentage,lower_limit_discount_percentage, \n",
    "                                  df['discount_percentage']))\n",
    "\n",
    "\n",
    "df.describe()"
   ]
  },
  {
   "cell_type": "code",
   "execution_count": 317,
   "id": "936691f2-2039-4bf0-82c5-be25231435ce",
   "metadata": {},
   "outputs": [
    {
     "data": {
      "text/html": [
       "<div>\n",
       "<style scoped>\n",
       "    .dataframe tbody tr th:only-of-type {\n",
       "        vertical-align: middle;\n",
       "    }\n",
       "\n",
       "    .dataframe tbody tr th {\n",
       "        vertical-align: top;\n",
       "    }\n",
       "\n",
       "    .dataframe thead th {\n",
       "        text-align: right;\n",
       "    }\n",
       "</style>\n",
       "<table border=\"1\" class=\"dataframe\">\n",
       "  <thead>\n",
       "    <tr style=\"text-align: right;\">\n",
       "      <th></th>\n",
       "      <th>discounted_price</th>\n",
       "      <th>actual_price</th>\n",
       "      <th>discount_percentage</th>\n",
       "      <th>rating</th>\n",
       "      <th>rating_count</th>\n",
       "    </tr>\n",
       "  </thead>\n",
       "  <tbody>\n",
       "    <tr>\n",
       "      <th>count</th>\n",
       "      <td>1425.000000</td>\n",
       "      <td>1425.000000</td>\n",
       "      <td>1425.000000</td>\n",
       "      <td>1425.000000</td>\n",
       "      <td>1425.000000</td>\n",
       "    </tr>\n",
       "    <tr>\n",
       "      <th>mean</th>\n",
       "      <td>3570.334911</td>\n",
       "      <td>6301.443839</td>\n",
       "      <td>0.473375</td>\n",
       "      <td>4.094386</td>\n",
       "      <td>16139.408842</td>\n",
       "    </tr>\n",
       "    <tr>\n",
       "      <th>std</th>\n",
       "      <td>6609.434560</td>\n",
       "      <td>10375.106026</td>\n",
       "      <td>0.216355</td>\n",
       "      <td>0.292887</td>\n",
       "      <td>28732.964266</td>\n",
       "    </tr>\n",
       "    <tr>\n",
       "      <th>min</th>\n",
       "      <td>48.750000</td>\n",
       "      <td>48.750000</td>\n",
       "      <td>0.000000</td>\n",
       "      <td>2.000000</td>\n",
       "      <td>2.000000</td>\n",
       "    </tr>\n",
       "    <tr>\n",
       "      <th>25%</th>\n",
       "      <td>412.500000</td>\n",
       "      <td>1076.250000</td>\n",
       "      <td>0.320000</td>\n",
       "      <td>4.000000</td>\n",
       "      <td>1181.000000</td>\n",
       "    </tr>\n",
       "    <tr>\n",
       "      <th>50%</th>\n",
       "      <td>1061.237500</td>\n",
       "      <td>2123.750000</td>\n",
       "      <td>0.500000</td>\n",
       "      <td>4.100000</td>\n",
       "      <td>5178.000000</td>\n",
       "    </tr>\n",
       "    <tr>\n",
       "      <th>75%</th>\n",
       "      <td>2541.250000</td>\n",
       "      <td>5618.750000</td>\n",
       "      <td>0.630000</td>\n",
       "      <td>4.300000</td>\n",
       "      <td>17394.000000</td>\n",
       "    </tr>\n",
       "    <tr>\n",
       "      <th>max</th>\n",
       "      <td>30316.810000</td>\n",
       "      <td>48156.510000</td>\n",
       "      <td>0.940000</td>\n",
       "      <td>5.000000</td>\n",
       "      <td>148092.020000</td>\n",
       "    </tr>\n",
       "  </tbody>\n",
       "</table>\n",
       "</div>"
      ],
      "text/plain": [
       "       discounted_price  actual_price  discount_percentage       rating  \\\n",
       "count       1425.000000   1425.000000          1425.000000  1425.000000   \n",
       "mean        3570.334911   6301.443839             0.473375     4.094386   \n",
       "std         6609.434560  10375.106026             0.216355     0.292887   \n",
       "min           48.750000     48.750000             0.000000     2.000000   \n",
       "25%          412.500000   1076.250000             0.320000     4.000000   \n",
       "50%         1061.237500   2123.750000             0.500000     4.100000   \n",
       "75%         2541.250000   5618.750000             0.630000     4.300000   \n",
       "max        30316.810000  48156.510000             0.940000     5.000000   \n",
       "\n",
       "        rating_count  \n",
       "count    1425.000000  \n",
       "mean    16139.408842  \n",
       "std     28732.964266  \n",
       "min         2.000000  \n",
       "25%      1181.000000  \n",
       "50%      5178.000000  \n",
       "75%     17394.000000  \n",
       "max    148092.020000  "
      ]
     },
     "execution_count": 317,
     "metadata": {},
     "output_type": "execute_result"
    }
   ],
   "source": [
    "df['rating_count'] = np.where(df['rating_count'] > upper_limit_rating_count,upper_limit_rating_count, \n",
    "                         np.where(df['rating_count'] < lower_limit_rating_count,lower_limit_rating_count, \n",
    "                                  df['rating_count']))\n",
    "\n",
    "\n",
    "df.describe()"
   ]
  },
  {
   "cell_type": "code",
   "execution_count": 318,
   "id": "b7ad79d2-c25e-4be0-8714-5ca786589fee",
   "metadata": {},
   "outputs": [
    {
     "name": "stdout",
     "output_type": "stream",
     "text": [
      "<class 'pandas.core.frame.DataFrame'>\n",
      "Index: 1425 entries, 0 to 1464\n",
      "Data columns (total 15 columns):\n",
      " #   Column               Non-Null Count  Dtype  \n",
      "---  ------               --------------  -----  \n",
      " 0   product_id           1425 non-null   object \n",
      " 1   product_name         1425 non-null   object \n",
      " 2   category             1425 non-null   object \n",
      " 3   discounted_price     1425 non-null   float64\n",
      " 4   actual_price         1425 non-null   float64\n",
      " 5   discount_percentage  1425 non-null   float64\n",
      " 6   rating               1425 non-null   float64\n",
      " 7   rating_count         1425 non-null   float64\n",
      " 8   about_product        1425 non-null   object \n",
      " 9   user_id              1425 non-null   object \n",
      " 10  user_name            1425 non-null   object \n",
      " 11  review_id            1425 non-null   object \n",
      " 12  review_content       1425 non-null   object \n",
      " 13  img_link             1425 non-null   object \n",
      " 14  product_link         1425 non-null   object \n",
      "dtypes: float64(5), object(10)\n",
      "memory usage: 210.4+ KB\n"
     ]
    }
   ],
   "source": [
    "df.info()"
   ]
  },
  {
   "cell_type": "code",
   "execution_count": 319,
   "id": "bd49687a-7aee-45f5-b843-cd16871408b3",
   "metadata": {},
   "outputs": [
    {
     "name": "stdout",
     "output_type": "stream",
     "text": [
      "Index(['product_id', 'product_name', 'category', 'discounted_price',\n",
      "       'actual_price', 'discount_percentage', 'rating', 'rating_count',\n",
      "       'about_product', 'user_id', 'user_name', 'review_id', 'review_content',\n",
      "       'img_link', 'product_link'],\n",
      "      dtype='object')\n"
     ]
    }
   ],
   "source": [
    "print(df.columns)\n",
    "df.columns = df.columns.str.strip()"
   ]
  },
  {
   "cell_type": "code",
   "execution_count": 320,
   "id": "a763cdd9-c953-4488-a1e8-8ea6f3e3dba6",
   "metadata": {},
   "outputs": [
    {
     "name": "stdout",
     "output_type": "stream",
     "text": [
      "<class 'pandas.core.frame.DataFrame'>\n",
      "Index: 1425 entries, 0 to 1464\n",
      "Data columns (total 8 columns):\n",
      " #   Column          Non-Null Count  Dtype \n",
      "---  ------          --------------  ----- \n",
      " 0   product_id      1425 non-null   object\n",
      " 1   about_product   1425 non-null   object\n",
      " 2   user_id         1425 non-null   object\n",
      " 3   user_name       1425 non-null   object\n",
      " 4   review_id       1425 non-null   object\n",
      " 5   review_content  1425 non-null   object\n",
      " 6   img_link        1425 non-null   object\n",
      " 7   product_link    1425 non-null   object\n",
      "dtypes: object(8)\n",
      "memory usage: 132.5+ KB\n",
      "None\n"
     ]
    }
   ],
   "source": [
    "\n",
    "Cdrop = ['product_name', 'category', 'discounted_price', 'actual_price',\n",
    "       'discount_percentage', 'rating', 'rating_count']\n",
    "\n",
    "df_cleaned = df.drop(columns=Cdrop)\n",
    "\n",
    "print(df_cleaned.info())"
   ]
  },
  {
   "cell_type": "code",
   "execution_count": 321,
   "id": "d2a7fa77-ea95-4a34-85d8-91942f972bc3",
   "metadata": {},
   "outputs": [
    {
     "name": "stdout",
     "output_type": "stream",
     "text": [
      "Columns in the cleaned DataFrame: Index(['product_name', 'category', 'discounted_price', 'actual_price',\n",
      "       'discount_percentage', 'rating', 'rating_count'],\n",
      "      dtype='object')\n",
      "Features: \n",
      " Index(['product_name', 'category', 'discounted_price', 'discount_percentage',\n",
      "       'rating', 'rating_count'],\n",
      "      dtype='object')\n",
      "Target: \n",
      " actual_price\n"
     ]
    }
   ],
   "source": [
    "df.columns = df.columns.str.strip()\n",
    "columns_to_drop = ['product_id', 'user_id', 'user_name', 'review_id', 'img_link', 'product_link', 'review_content', 'about_product']\n",
    "df_cleaned = df.drop(columns=columns_to_drop, errors='ignore')\n",
    "print(\"Columns in the cleaned DataFrame:\", df_cleaned.columns)\n",
    "\n",
    "if 'actual_price' not in df_cleaned.columns:\n",
    "    raise KeyError(\"'actual_price' is missing. Debug column creation or preprocessing!\")\n",
    "\n",
    "y = df_cleaned['actual_price']\n",
    "X = df_cleaned.drop(columns=['actual_price'])\n",
    "print(\"Features: \\n\", X.columns)\n",
    "print(\"Target: \\n\", y.name)"
   ]
  },
  {
   "cell_type": "code",
   "execution_count": 322,
   "id": "d737d18e-59e2-473d-99dd-214cb7bb7bf7",
   "metadata": {},
   "outputs": [
    {
     "name": "stdout",
     "output_type": "stream",
     "text": [
      "product_id\n",
      "B07JW9H4J1    3\n",
      "B096MSW6CT    3\n",
      "B08HDJ86NZ    3\n",
      "B08WRWPM22    3\n",
      "B08CDKQ8T6    2\n",
      "             ..\n",
      "B08HV25BBQ    1\n",
      "B09QS9X16F    1\n",
      "B0B3RS9DNF    1\n",
      "B0BDYW3RN3    1\n",
      "B01486F4G6    1\n",
      "Name: count, Length: 1351, dtype: int64\n",
      "product_name\n",
      "Portronics Konnect L    11\n",
      "Wayona Nylon Braided    10\n",
      "Ambrane Unbreakable      9\n",
      "7SEVENÂ® Compatible      8\n",
      "Fire-Boltt Ninja Cal     6\n",
      "                        ..\n",
      "ZEBRONICS Zeb-Comfor     1\n",
      "boAt Rockerz 370 On      1\n",
      "ZEBRONICS Zeb-Astra      1\n",
      "Panasonic CR-2032/5B     1\n",
      "Borosil Jumbo 1000-W     1\n",
      "Name: count, Length: 1157, dtype: int64\n",
      "category\n",
      "computers accessories    421\n",
      "home kitchen kitchen     309\n",
      "electronics hometheat    160\n",
      "electronics mobiles      156\n",
      "home kitchen heating,    116\n",
      "electronics wearablet     75\n",
      "electronics headphone     66\n",
      "officeproducts office     31\n",
      "electronics homeaudio     16\n",
      "home kitchen homestor     16\n",
      "electronics cameras       16\n",
      "electronics accessori     14\n",
      "electronics generalpu     14\n",
      "home kitchen craftmat      7\n",
      "homeimprovement elect      2\n",
      "musicalinstruments         2\n",
      "electronics poweracce      1\n",
      "toys games arts craft      1\n",
      "motorbike caracce          1\n",
      "health personalcare        1\n",
      "Name: count, dtype: int64\n",
      "about_product\n",
      "Resolution: HD Ready    21\n",
      "Fire-Boltt is India'    20\n",
      "Resolution: 4K Ultra    14\n",
      "PRODUCT: Crompton's     10\n",
      "[High Compatibility]     9\n",
      "                        ..\n",
      "True Powerful Bass|P     1\n",
      "21.5 Inch VA Panel F     1\n",
      "Portable, easy to us     1\n",
      "Charges compatible d     1\n",
      "Brand-Borosil, Speci     1\n",
      "Name: count, Length: 1047, dtype: int64\n",
      "user_id\n",
      "AHIKJUDTVJ    9\n",
      "AGAELRYPMT    8\n",
      "AG3D6O4STA    8\n",
      "AEWAZDZZJL    7\n",
      "AECPFYFQVR    6\n",
      "             ..\n",
      "AFAVJJJRDJ    1\n",
      "AF3HHR5VAN    1\n",
      "AEU6MYQDUV    1\n",
      "AG2ICOYPSO    1\n",
      "AFGW5PT3R6    1\n",
      "Name: count, Length: 1170, dtype: int64\n",
      "user_name\n",
      "Amazon Cus    55\n",
      "$@|\\|TO$|-     9\n",
      "Manav,Adar     8\n",
      "Satheesh K     8\n",
      "Prashant,S     7\n",
      "              ..\n",
      "Siddharth      1\n",
      "Maxrock89,     1\n",
      "Narasimha      1\n",
      "T N Sivaji     1\n",
      "Rajib,Ajay     1\n",
      "Name: count, Length: 1112, dtype: int64\n",
      "review_id\n",
      "R3F4T5TRYP    9\n",
      "R3HXWT0LRP    8\n",
      "R2K5OD0MEE    8\n",
      "R3EEUZKKK9    7\n",
      "R27MK332LT    6\n",
      "             ..\n",
      "R2SK5PPC2Z    1\n",
      "R1JXCQXDJH    1\n",
      "R3NMIVJ17E    1\n",
      "R1B4X8ITOA    1\n",
      "R20RBRZ0WE    1\n",
      "Name: count, Length: 1184, dtype: int64\n",
      "review_content\n",
      "Worked on iPhone 7 and didnât work on iPhone XR,    9\n",
      "I am not big on camera usage, personally. I was ev    8\n",
      "Looks durable Charging is fine tooNo complains,Cha    8\n",
      "Good product,long wire,Charges good,Nice,I bought     7\n",
      "128GB SD Card is showing 134GBDon't buy this produ    6\n",
      "                                                     ..\n",
      "Good,Product is as described, good we can use it,G    1\n",
      "Still using it , have ordered long time back, easy    1\n",
      "Bahut hi achha product hai badhiya saund and bluet    1\n",
      "design of the keyboard and mouse lenght of the wir    1\n",
      "It does it job perfectly..only issue is temp contr    1\n",
      "Name: count, Length: 1180, dtype: int64\n",
      "img_link\n",
      "https://m.media-amazon.com/images/W/WEBP_402378-T1    317\n",
      "https://m.media-amazon.com/images/W/WEBP_402378-T2    277\n",
      "https://m.media-amazon.com/images/I/413sCRKobNL._S      3\n",
      "https://m.media-amazon.com/images/I/41ML8ZbPiiL._S      3\n",
      "https://images-na.ssl-images-amazon.com/images/W/W      3\n",
      "                                                     ... \n",
      "https://m.media-amazon.com/images/I/41xwPQLxTML._S      1\n",
      "https://m.media-amazon.com/images/I/41P4Al+S3zL._S      1\n",
      "https://m.media-amazon.com/images/I/41cYSMom9TL._S      1\n",
      "https://m.media-amazon.com/images/I/31hDWwY8iWL._S      1\n",
      "https://m.media-amazon.com/images/I/41gzDxk4+kL._S      1\n",
      "Name: count, Length: 792, dtype: int64\n",
      "product_link\n",
      "https://www.amazon.in/Ambrane-Unbreakable-Charging    9\n",
      "https://www.amazon.in/Fire-Boltt-Bluetooth-Calling    7\n",
      "https://www.amazon.in/boAt-Wave-Call-Dedicated-Mul    5\n",
      "https://www.amazon.in/AmazonBasics-Nylon-Braided-L    4\n",
      "https://www.amazon.in/Samsung-inches-Crystal-Ultra    4\n",
      "                                                     ..\n",
      "https://www.amazon.in/Scotch-Double-Foam-Tape-24/d    1\n",
      "https://www.amazon.in/BassHeads-152-ToneSecure-Bra    1\n",
      "https://www.amazon.in/BassHeads-122-Earphones-Tang    1\n",
      "https://www.amazon.in/Dell-Wireless-Keyboard-Mouse    1\n",
      "https://www.amazon.in/Borosil-Jumbo-1000-Watt-Gril    1\n",
      "Name: count, Length: 1239, dtype: int64\n"
     ]
    }
   ],
   "source": [
    "columns_to_check = ['product_id', 'product_name', 'category', 'about_product', 'user_id', 'user_name','review_id','review_content', 'img_link','product_link']\n",
    "\n",
    "for col in columns_to_check:\n",
    "    value_counts_column = df[col].value_counts()\n",
    "    print(value_counts_column)"
   ]
  },
  {
   "cell_type": "code",
   "execution_count": 323,
   "id": "88ac4cfb-2eda-489e-acf9-a694c9b4209b",
   "metadata": {},
   "outputs": [
    {
     "name": "stdout",
     "output_type": "stream",
     "text": [
      "\n",
      "Encoded Features (X):    product_name  category  discounted_price  discount_percentage  rating  \\\n",
      "0          1007         0            498.75                 0.64     4.2   \n",
      "1           101         0            248.75                 0.43     4.0   \n",
      "2           887         0            248.75                 0.90     3.9   \n",
      "3          1100         0            411.25                 0.53     4.2   \n",
      "4           721         0            192.50                 0.61     4.2   \n",
      "\n",
      "   rating_count  \n",
      "0       24269.0  \n",
      "1       43994.0  \n",
      "2        7928.0  \n",
      "3       94363.0  \n",
      "4       16905.0  \n",
      "\n",
      "Encoded Target (y): 0    1373.75\n",
      "1     436.25\n",
      "2    2373.75\n",
      "3     873.75\n",
      "4     498.75\n",
      "Name: actual_price, dtype: float64\n"
     ]
    }
   ],
   "source": [
    "categorical_columns = ['product_id', 'product_name', 'category', \n",
    "                       'about_product', 'user_id', 'user_name', 'review_id',\n",
    "                       'review_content', 'img_link', 'product_link']\n",
    "\n",
    "for col in categorical_columns:\n",
    "    if col in df_cleaned.columns and df_cleaned[col].isnull().any():\n",
    "        df_cleaned[col] = df_cleaned[col].fillna('Unknown')  # Handle NaNs\n",
    "\n",
    "label_encoder = LabelEncoder()\n",
    "for col in categorical_columns:\n",
    "    if col in df_cleaned.columns:\n",
    "        df_cleaned[col] = label_encoder.fit_transform(df_cleaned[col])\n",
    "\n",
    "y = df_cleaned['actual_price']\n",
    "X = df_cleaned.drop(columns=['actual_price'], errors='ignore')\n",
    "print(\"\\nEncoded Features (X):\", X.head())\n",
    "print(\"\\nEncoded Target (y):\", y.head())\n"
   ]
  },
  {
   "cell_type": "code",
   "execution_count": 324,
   "id": "600477bb-53bc-4d61-a288-34c102fdea6c",
   "metadata": {},
   "outputs": [
    {
     "name": "stdout",
     "output_type": "stream",
     "text": [
      "Skipping encoding for missing column: 'product_id'\n",
      "Skipping encoding for missing column: 'about_product'\n",
      "Skipping encoding for missing column: 'user_id'\n",
      "Skipping encoding for missing column: 'user_name'\n",
      "Skipping encoding for missing column: 'review_id'\n",
      "Skipping encoding for missing column: 'review_content'\n",
      "Skipping encoding for missing column: 'img_link'\n",
      "Skipping encoding for missing column: 'product_link'\n",
      "Columns in the feature set (X): Index(['product_name', 'category', 'discounted_price', 'discount_percentage',\n",
      "       'rating', 'rating_count'],\n",
      "      dtype='object')\n",
      "Column 'product_id' is NOT present in the DataFrame!\n",
      "\n",
      "Value counts for 'product_name' after encoding:\n",
      "product_name\n",
      "721     11\n",
      "1007    10\n",
      "101      9\n",
      "9        8\n",
      "321      6\n",
      "        ..\n",
      "1049     1\n",
      "1110     1\n",
      "1046     1\n",
      "677      1\n",
      "150      1\n",
      "Name: count, Length: 1157, dtype: int64\n",
      "\n",
      "Value counts for 'category' after encoding:\n",
      "category\n",
      "0     421\n",
      "14    309\n",
      "6     160\n",
      "7     156\n",
      "12    116\n",
      "9      75\n",
      "4      66\n",
      "18     31\n",
      "5      16\n",
      "13     16\n",
      "2      16\n",
      "1      14\n",
      "3      14\n",
      "11      7\n",
      "15      2\n",
      "17      2\n",
      "8       1\n",
      "19      1\n",
      "16      1\n",
      "10      1\n",
      "Name: count, dtype: int64\n",
      "Column 'about_product' is NOT present in the DataFrame!\n",
      "Column 'user_id' is NOT present in the DataFrame!\n",
      "Column 'user_name' is NOT present in the DataFrame!\n",
      "Column 'review_id' is NOT present in the DataFrame!\n",
      "Column 'review_content' is NOT present in the DataFrame!\n",
      "Column 'img_link' is NOT present in the DataFrame!\n",
      "Column 'product_link' is NOT present in the DataFrame!\n"
     ]
    }
   ],
   "source": [
    "\n",
    "categorical_columns = ['product_id', 'product_name', 'category', \n",
    "                       'about_product', 'user_id', 'user_name', 'review_id',\n",
    "                       'review_content', 'img_link', 'product_link']\n",
    "\n",
    "for col in categorical_columns:\n",
    "    if col in df_cleaned.columns:\n",
    "        df_cleaned[col] = df_cleaned[col].fillna('Unknown')\n",
    "\n",
    "label_encoder = LabelEncoder()\n",
    "for col in categorical_columns:\n",
    "    if col in df_cleaned.columns:\n",
    "        df_cleaned[col] = label_encoder.fit_transform(df_cleaned[col])\n",
    "    else:\n",
    "        print(f\"Skipping encoding for missing column: '{col}'\")\n",
    "\n",
    "y = df_cleaned['actual_price']\n",
    "X = df_cleaned.drop(columns=['actual_price'], errors='ignore')\n",
    "X.columns = X.columns.str.strip()\n",
    "print(\"Columns in the feature set (X):\", X.columns)\n",
    "\n",
    "for col in categorical_columns:\n",
    "    if col in X.columns:\n",
    "        print(f\"\\nValue counts for '{col}' after encoding:\")\n",
    "        print(X[col].value_counts())\n",
    "    else:\n",
    "        print(f\"Column '{col}' is NOT present in the DataFrame!\")\n"
   ]
  },
  {
   "cell_type": "code",
   "execution_count": 334,
   "id": "e5c66836-50a5-4727-b462-d7a01054b78b",
   "metadata": {},
   "outputs": [
    {
     "data": {
      "image/png": "[encoded data removed]",
      "text/plain": [
       "<Figure size 1500x500 with 3 Axes>"
      ]
     },
     "metadata": {},
     "output_type": "display_data"
    }
   ],
   "source": [
    "sns.set(style=\"whitegrid\")\n",
    "plt.figure(figsize=(15, 5))\n",
    "\n",
    "plt.subplot(1, 3, 1)\n",
    "sns.histplot(df['discounted_price'], kde=True, bins=30, color='blue')\n",
    "plt.title('Distribution of Discounted Prices')\n",
    "plt.xlabel('Discounted Price')\n",
    "plt.ylabel('Frequency')\n",
    "\n",
    "plt.subplot(1, 3, 2)\n",
    "sns.histplot(df['actual_price'], kde=True, bins=30, color='green')\n",
    "plt.title('Distribution of Actual Prices')\n",
    "plt.xlabel('Actual Price')\n",
    "plt.ylabel('Frequency')\n",
    "\n",
    "plt.subplot(1, 3, 3)\n",
    "sns.histplot(df['rating_count'], kde=True, bins=30, color='orange')\n",
    "plt.title('Distribution of Rating Counts')\n",
    "plt.xlabel('Rating Count')\n",
    "plt.ylabel('Frequency')\n",
    "\n",
    "plt.tight_layout()\n",
    "plt.show()"
   ]
  },
  {
   "cell_type": "code",
   "execution_count": 335,
   "id": "002f9d10-bd16-4769-b4a7-aaaf86ee9b4b",
   "metadata": {},
   "outputs": [
    {
     "data": {
      "image/png": "[encoded data removed]",
      "text/plain": [
       "<Figure size 640x480 with 1 Axes>"
      ]
     },
     "metadata": {},
     "output_type": "display_data"
    }
   ],
   "source": [
    "sns.countplot(x='category', data=df, order=df['category'].value_counts().index)\n",
    "plt.xticks(rotation=45)\n",
    "plt.title('Number of Products per Category')\n",
    "plt.xlabel('Category')\n",
    "plt.ylabel('Count')\n",
    "plt.show()"
   ]
  },
  {
   "cell_type": "code",
   "execution_count": 336,
   "id": "4cab6e6e-4a65-49a1-a731-bb4c09d0422f",
   "metadata": {},
   "outputs": [
    {
     "data": {
      "image/png": "[encoded data removed]",
      "text/plain": [
       "<Figure size 640x480 with 1 Axes>"
      ]
     },
     "metadata": {},
     "output_type": "display_data"
    }
   ],
   "source": [
    "category_counts = df['category'].value_counts().head(10)  # Top 10 categories\n",
    "sns.barplot(x=category_counts.index, y=category_counts.values)\n",
    "plt.xticks(rotation=45)\n",
    "plt.title('Top 10 Product Categories by Count')\n",
    "plt.xlabel('Category')\n",
    "plt.ylabel('Count')\n",
    "plt.show()"
   ]
  },
  {
   "cell_type": "code",
   "execution_count": 344,
   "id": "9ae3efaf-ab3d-4139-9efd-39766a21a524",
   "metadata": {},
   "outputs": [
    {
     "data": {
      "image/png": "[encoded data removed]",
      "text/plain": [
       "<Figure size 640x480 with 1 Axes>"
      ]
     },
     "metadata": {},
     "output_type": "display_data"
    }
   ],
   "source": [
    "sns.histplot(df['rating'], kde=True, bins=20)\n",
    "plt.title('Distribution of Ratings')\n",
    "plt.xlabel('Rating')\n",
    "plt.ylabel('Frequency')\n",
    "plt.show()\n",
    "\n"
   ]
  },
  {
   "cell_type": "code",
   "execution_count": 345,
   "id": "e39105d0-0cd3-460a-851b-935a78b03754",
   "metadata": {},
   "outputs": [
    {
     "data": {
      "image/png": "[encoded data removed]",
      "text/plain": [
       "<Figure size 640x480 with 1 Axes>"
      ]
     },
     "metadata": {},
     "output_type": "display_data"
    }
   ],
   "source": [
    "avg_rating_per_category = df.groupby('category')['rating'].mean().sort_values()\n",
    "sns.barplot(x=avg_rating_per_category.index, y=avg_rating_per_category.values)\n",
    "plt.xticks(rotation=45)\n",
    "plt.title('Average Rating by Category')\n",
    "plt.xlabel('Category')\n",
    "plt.ylabel('Average Rating')\n",
    "plt.show()\n"
   ]
  },
  {
   "cell_type": "code",
   "execution_count": 351,
   "id": "d183ac28-e4e1-437d-9f7c-fc1d488126d9",
   "metadata": {},
   "outputs": [
    {
     "data": {
      "image/png": "[encoded data removed]",
      "text/plain": [
       "<Figure size 640x480 with 1 Axes>"
      ]
     },
     "metadata": {},
     "output_type": "display_data"
    }
   ],
   "source": [
    "category_counts = df['category'].value_counts().head(10)  # Limit to top 10 categories for clarity\n",
    "category_counts.plot(kind='pie', autopct='%1.1f%%')\n",
    "plt.title('Top 10 Product Categories Proportion')\n",
    "plt.ylabel('')\n",
    "plt.show()"
   ]
  },
  {
   "cell_type": "code",
   "execution_count": 347,
   "id": "c479720d-4ffc-4cf4-adf6-c55498b7685e",
   "metadata": {},
   "outputs": [
    {
     "data": {
      "image/png": "[encoded data removed]",
      "text/plain": [
       "<Figure size 640x480 with 1 Axes>"
      ]
     },
     "metadata": {},
     "output_type": "display_data"
    }
   ],
   "source": [
    "sns.countplot(x='user_id', data=df, order=df['user_id'].value_counts().head(10).index)\n",
    "plt.xticks(rotation=45)\n",
    "plt.title('Top 10 Users by Rating Count')\n",
    "plt.xlabel('User ID')\n",
    "plt.ylabel('Count')\n",
    "plt.show()\n"
   ]
  },
  {
   "cell_type": "code",
   "execution_count": null,
   "id": "13fcfeac-6bef-4fea-a7a4-b32a7ac4c9e6",
   "metadata": {},
   "outputs": [],
   "source": []
  },
  {
   "cell_type": "code",
   "execution_count": null,
   "id": "4e3706c8-192b-47c6-896b-e48b1027248c",
   "metadata": {},
   "outputs": [],
   "source": []
  },
  {
   "cell_type": "code",
   "execution_count": null,
   "id": "0c521e3a-2dcc-4406-92da-88133546032f",
   "metadata": {},
   "outputs": [],
   "source": []
  },
  {
   "cell_type": "code",
   "execution_count": null,
   "id": "267f19df-279f-484e-8559-061f91de3573",
   "metadata": {},
   "outputs": [],
   "source": []
  },
  {
   "cell_type": "code",
   "execution_count": null,
   "id": "1c3f35fc-833f-492f-ad10-b7996ff51341",
   "metadata": {},
   "outputs": [],
   "source": []
  },
  {
   "cell_type": "code",
   "execution_count": null,
   "id": "6610ecff-b127-4dc9-9ed9-c4013c01d5ea",
   "metadata": {},
   "outputs": [],
   "source": []
  },
  {
   "cell_type": "code",
   "execution_count": null,
   "id": "314e73f4-c649-4ecc-9bc5-a8aaa047b2c0",
   "metadata": {},
   "outputs": [],
   "source": []
  },
  {
   "cell_type": "code",
   "execution_count": null,
   "id": "5952e9f9-47a8-4867-b969-53c72026a13f",
   "metadata": {},
   "outputs": [],
   "source": []
  },
  {
   "cell_type": "code",
   "execution_count": null,
   "id": "6b3c06e2-ac98-451c-ab9a-4a1f28b66d95",
   "metadata": {},
   "outputs": [],
   "source": []
  },
  {
   "cell_type": "code",
   "execution_count": null,
   "id": "5f21d35c-4c75-4ebb-8ee7-dc0b734f81d9",
   "metadata": {},
   "outputs": [],
   "source": []
  },
  {
   "cell_type": "code",
   "execution_count": null,
   "id": "dd5f7d85-976a-4c38-aba9-c531e7ba52dc",
   "metadata": {},
   "outputs": [],
   "source": []
  },
  {
   "cell_type": "code",
   "execution_count": null,
   "id": "a81e5229-ae1c-4fde-a328-a38eb8bcdec1",
   "metadata": {},
   "outputs": [],
   "source": []
  },
  {
   "cell_type": "code",
   "execution_count": null,
   "id": "56434750-9b50-4309-81e0-727277bd64d6",
   "metadata": {},
   "outputs": [],
   "source": []
  },
  {
   "cell_type": "code",
   "execution_count": null,
   "id": "1d305dd4-42d9-4197-a48d-93d1d788e175",
   "metadata": {},
   "outputs": [],
   "source": []
  },
  {
   "cell_type": "code",
   "execution_count": null,
   "id": "a239de4a-f643-4c96-93dd-d6347d22a7e4",
   "metadata": {},
   "outputs": [],
   "source": []
  },
  {
   "cell_type": "code",
   "execution_count": null,
   "id": "087efbec-41f6-4fa1-b050-61933ed6f053",
   "metadata": {},
   "outputs": [],
   "source": []
  },
  {
   "cell_type": "code",
   "execution_count": null,
   "id": "6a7fe2d0-89ea-405e-b1c9-dc367cca6bd6",
   "metadata": {},
   "outputs": [],
   "source": []
  },
  {
   "cell_type": "code",
   "execution_count": null,
   "id": "fd2992c8-35f1-49e9-be7c-c8751ff10bf5",
   "metadata": {},
   "outputs": [],
   "source": []
  },
  {
   "cell_type": "code",
   "execution_count": null,
   "id": "a429938e-7003-4ef2-9c33-9cc4158fdfd2",
   "metadata": {},
   "outputs": [],
   "source": []
  },
  {
   "cell_type": "code",
   "execution_count": null,
   "id": "cc4985bd-d745-4be9-8b48-c4d28fb92fc7",
   "metadata": {},
   "outputs": [],
   "source": []
  },
  {
   "cell_type": "code",
   "execution_count": null,
   "id": "10f14bff-05e2-45e9-b48a-1f55ffa5ae72",
   "metadata": {},
   "outputs": [],
   "source": []
  },
  {
   "cell_type": "code",
   "execution_count": null,
   "id": "c59b45d4-c9c6-4250-aaa2-92a35d28b1ca",
   "metadata": {},
   "outputs": [],
   "source": []
  },
  {
   "cell_type": "code",
   "execution_count": null,
   "id": "1cabdebb-1f6f-4362-9f09-9422410cbb81",
   "metadata": {},
   "outputs": [],
   "source": []
  },
  {
   "cell_type": "code",
   "execution_count": null,
   "id": "9d488093-df19-4a99-8aa9-c7d6e85965ae",
   "metadata": {},
   "outputs": [],
   "source": []
  },
  {
   "cell_type": "code",
   "execution_count": null,
   "id": "c0b5753d-1cb0-4bf4-9282-bac492fed176",
   "metadata": {},
   "outputs": [],
   "source": []
  },
  {
   "cell_type": "code",
   "execution_count": null,
   "id": "37a57ef8-8d9e-41d0-81d7-b0e5ace8975f",
   "metadata": {},
   "outputs": [],
   "source": []
  },
  {
   "cell_type": "code",
   "execution_count": null,
   "id": "9b638343-b0e8-4ac5-827e-d5f5550c4b3a",
   "metadata": {},
   "outputs": [],
   "source": []
  },
  {
   "cell_type": "code",
   "execution_count": null,
   "id": "098ec913-998c-4770-9b79-1e53a9e39c71",
   "metadata": {},
   "outputs": [],
   "source": []
  },
  {
   "cell_type": "code",
   "execution_count": null,
   "id": "92ddff04-d0e3-4705-a26d-0e92dfa657b8",
   "metadata": {},
   "outputs": [],
   "source": []
  },
  {
   "cell_type": "code",
   "execution_count": null,
   "id": "e449ee9d-e211-49b1-b47e-9f188855dd16",
   "metadata": {},
   "outputs": [],
   "source": []
  },
  {
   "cell_type": "code",
   "execution_count": null,
   "id": "b2e93332-3d46-4318-a307-2f57f72484fe",
   "metadata": {},
   "outputs": [],
   "source": []
  },
  {
   "cell_type": "code",
   "execution_count": null,
   "id": "568ae422-b50c-42c4-a8ce-098e1833ad61",
   "metadata": {},
   "outputs": [],
   "source": []
  },
  {
   "cell_type": "code",
   "execution_count": null,
   "id": "50fddbd0-002b-45ca-a5f8-af4c788a9223",
   "metadata": {},
   "outputs": [],
   "source": []
  },
  {
   "cell_type": "code",
   "execution_count": null,
   "id": "ea895b0b-156d-40cb-9cba-a90df33ebf02",
   "metadata": {},
   "outputs": [],
   "source": []
  },
  {
   "cell_type": "code",
   "execution_count": null,
   "id": "eacab70a-3e79-4bb4-bc7e-7f6ca9423bdb",
   "metadata": {},
   "outputs": [],
   "source": []
  },
  {
   "cell_type": "code",
   "execution_count": null,
   "id": "3f981842-bb0f-4c51-be85-6319ae46f7d4",
   "metadata": {},
   "outputs": [],
   "source": []
  },
  {
   "cell_type": "code",
   "execution_count": null,
   "id": "2f33c11a-8be3-4245-a0ea-89580aadf921",
   "metadata": {},
   "outputs": [],
   "source": []
  },
  {
   "cell_type": "code",
   "execution_count": null,
   "id": "317e572c-6638-48cd-b12c-7fdac77d83a6",
   "metadata": {},
   "outputs": [],
   "source": []
  },
  {
   "cell_type": "code",
   "execution_count": null,
   "id": "2f25d7e9-0117-49b6-8040-71bc90bfc28c",
   "metadata": {},
   "outputs": [],
   "source": []
  },
  {
   "cell_type": "code",
   "execution_count": null,
   "id": "6c12a9f3-a336-4fdb-badf-44c19bd16e17",
   "metadata": {},
   "outputs": [],
   "source": []
  },
  {
   "cell_type": "code",
   "execution_count": null,
   "id": "30f30dd8-a675-4848-a944-25f68c3956ef",
   "metadata": {},
   "outputs": [],
   "source": []
  },
  {
   "cell_type": "code",
   "execution_count": null,
   "id": "529275ee-32d9-484a-8c83-081831363a0d",
   "metadata": {},
   "outputs": [],
   "source": []
  },
  {
   "cell_type": "code",
   "execution_count": null,
   "id": "11f0ea27-cc8c-4941-b8bb-2e04d6c6cf68",
   "metadata": {},
   "outputs": [],
   "source": []
  },
  {
   "cell_type": "code",
   "execution_count": null,
   "id": "b8c155f9-65f6-4e76-b507-64a99bbe78b3",
   "metadata": {},
   "outputs": [],
   "source": []
  },
  {
   "cell_type": "code",
   "execution_count": null,
   "id": "f73bdee1-875e-4817-ac08-c855294485ab",
   "metadata": {},
   "outputs": [],
   "source": []
  },
  {
   "cell_type": "code",
   "execution_count": null,
   "id": "d8283f39-3807-47cf-809a-76fe4ee1d748",
   "metadata": {},
   "outputs": [],
   "source": []
  },
  {
   "cell_type": "code",
   "execution_count": null,
   "id": "1f9fcd8a-f158-4d58-b98b-dc70c1b84125",
   "metadata": {},
   "outputs": [],
   "source": []
  },
  {
   "cell_type": "code",
   "execution_count": null,
   "id": "19a6eb6e-da2b-46ce-8e54-545aacc81f72",
   "metadata": {},
   "outputs": [],
   "source": []
  },
  {
   "cell_type": "code",
   "execution_count": null,
   "id": "39abec83-1929-4a82-9f1a-f7a800af1fb1",
   "metadata": {},
   "outputs": [],
   "source": []
  },
  {
   "cell_type": "code",
   "execution_count": null,
   "id": "fb1c8555-c8ac-4dc5-983e-5f1a4a0fadc7",
   "metadata": {},
   "outputs": [],
   "source": []
  },
  {
   "cell_type": "code",
   "execution_count": null,
   "id": "49afaf3c-cd8d-4038-aa07-e6ead654b5f8",
   "metadata": {},
   "outputs": [],
   "source": []
  },
  {
   "cell_type": "code",
   "execution_count": null,
   "id": "4caa3fd9-6ea4-44e5-807f-c2cf42c93f29",
   "metadata": {},
   "outputs": [],
   "source": []
  },
  {
   "cell_type": "code",
   "execution_count": null,
   "id": "9d40be23-57a3-44ec-b2ef-231603cb8179",
   "metadata": {},
   "outputs": [],
   "source": []
  },
  {
   "cell_type": "code",
   "execution_count": null,
   "id": "a1b0fc33-4f03-40ec-add9-353afe4858f9",
   "metadata": {},
   "outputs": [],
   "source": []
  },
  {
   "cell_type": "code",
   "execution_count": null,
   "id": "72a0238b-9141-4054-a214-433ee808b0ac",
   "metadata": {},
   "outputs": [],
   "source": []
  },
  {
   "cell_type": "code",
   "execution_count": null,
   "id": "8debb8ad-9281-43a6-ae86-e5c92d158758",
   "metadata": {},
   "outputs": [],
   "source": []
  },
  {
   "cell_type": "code",
   "execution_count": null,
   "id": "d1ca0c6e-7cd3-4b69-aefc-df6c796df9d4",
   "metadata": {},
   "outputs": [],
   "source": []
  },
  {
   "cell_type": "code",
   "execution_count": null,
   "id": "ee7e1575-3b30-44ee-8b90-99840a2531cf",
   "metadata": {},
   "outputs": [],
   "source": []
  },
  {
   "cell_type": "code",
   "execution_count": null,
   "id": "2a477aa2-89a0-4f61-9e3f-67b7a2352d17",
   "metadata": {},
   "outputs": [],
   "source": []
  },
  {
   "cell_type": "code",
   "execution_count": null,
   "id": "61e927b2-a896-4dad-b682-aac13bfa1ed6",
   "metadata": {},
   "outputs": [],
   "source": []
  },
  {
   "cell_type": "code",
   "execution_count": null,
   "id": "9e0c6d21-b4f4-4cb8-811d-ec519eafa00a",
   "metadata": {},
   "outputs": [],
   "source": []
  },
  {
   "cell_type": "code",
   "execution_count": null,
   "id": "b2b976ac-c0c5-4ec2-afd5-54b1771dbc0c",
   "metadata": {},
   "outputs": [],
   "source": []
  },
  {
   "cell_type": "code",
   "execution_count": null,
   "id": "14cb22c2-2a4a-4afd-96dd-1758a8566d15",
   "metadata": {},
   "outputs": [],
   "source": []
  },
  {
   "cell_type": "code",
   "execution_count": null,
   "id": "a99b88f2-fb6f-4558-9e76-82aa74b5df09",
   "metadata": {},
   "outputs": [],
   "source": []
  },
  {
   "cell_type": "code",
   "execution_count": null,
   "id": "b3d0585b-82b9-49ce-b99e-7b5fa9946d79",
   "metadata": {},
   "outputs": [],
   "source": []
  },
  {
   "cell_type": "code",
   "execution_count": null,
   "id": "9fbe4a72-cc85-47a8-b52a-371033632690",
   "metadata": {},
   "outputs": [],
   "source": []
  },
  {
   "cell_type": "code",
   "execution_count": null,
   "id": "80549883-cb5a-4e16-9de9-c064a42ec863",
   "metadata": {},
   "outputs": [],
   "source": []
  },
  {
   "cell_type": "code",
   "execution_count": null,
   "id": "d95982d3-ca0a-42f2-b12e-1dd68ca89b02",
   "metadata": {},
   "outputs": [],
   "source": []
  },
  {
   "cell_type": "code",
   "execution_count": null,
   "id": "e41f8d75-efe1-4610-b673-f015a042eab1",
   "metadata": {},
   "outputs": [],
   "source": []
  },
  {
   "cell_type": "code",
   "execution_count": null,
   "id": "bca25fce-211b-434b-9e35-2a800fb5dd15",
   "metadata": {},
   "outputs": [],
   "source": []
  },
  {
   "cell_type": "code",
   "execution_count": null,
   "id": "bb04f9a5-45cb-4311-a24c-4eb493a1f126",
   "metadata": {},
   "outputs": [],
   "source": []
  },
  {
   "cell_type": "code",
   "execution_count": null,
   "id": "5490d110-ef41-4d0d-9d05-be43f1676568",
   "metadata": {},
   "outputs": [],
   "source": []
  },
  {
   "cell_type": "code",
   "execution_count": null,
   "id": "672a10d8-1ac3-4798-8373-deb40ed9e1cf",
   "metadata": {},
   "outputs": [],
   "source": []
  },
  {
   "cell_type": "code",
   "execution_count": null,
   "id": "12f89f77-e6d7-4d0d-aa14-e027cb6d92df",
   "metadata": {},
   "outputs": [],
   "source": []
  },
  {
   "cell_type": "code",
   "execution_count": null,
   "id": "d2bc5265-3b9a-471c-b1e3-6b0b95673b94",
   "metadata": {},
   "outputs": [],
   "source": []
  },
  {
   "cell_type": "code",
   "execution_count": null,
   "id": "2f995f6a-662a-465d-9f15-2679a83e418b",
   "metadata": {},
   "outputs": [],
   "source": []
  },
  {
   "cell_type": "code",
   "execution_count": null,
   "id": "8cfa3550-7ee6-41c5-b9a5-739ec10cb272",
   "metadata": {},
   "outputs": [],
   "source": []
  },
  {
   "cell_type": "code",
   "execution_count": null,
   "id": "6ee960d3-a774-494f-84ea-c99aa35f7b45",
   "metadata": {},
   "outputs": [],
   "source": []
  },
  {
   "cell_type": "code",
   "execution_count": null,
   "id": "9c0befde-7dba-43b6-9b1f-6a3c5cbbdf20",
   "metadata": {},
   "outputs": [],
   "source": []
  },
  {
   "cell_type": "code",
   "execution_count": null,
   "id": "76fbc33c-c3ff-4c4e-8409-5d0820bf707a",
   "metadata": {},
   "outputs": [],
   "source": []
  },
  {
   "cell_type": "code",
   "execution_count": null,
   "id": "3cb364d5-3847-4ce1-aaab-82d539c88f0a",
   "metadata": {},
   "outputs": [],
   "source": []
  },
  {
   "cell_type": "code",
   "execution_count": null,
   "id": "d630408c-6493-4922-a402-825415797ac1",
   "metadata": {},
   "outputs": [],
   "source": []
  },
  {
   "cell_type": "code",
   "execution_count": null,
   "id": "ba0ab5ca-05f9-444a-9315-5bbc59d840a2",
   "metadata": {},
   "outputs": [],
   "source": []
  },
  {
   "cell_type": "code",
   "execution_count": null,
   "id": "038bd0d6-a51a-4aad-9ade-a93cb698c093",
   "metadata": {},
   "outputs": [],
   "source": []
  },
  {
   "cell_type": "code",
   "execution_count": null,
   "id": "bd1bdbdb-7751-48ee-932d-b8c998201f98",
   "metadata": {},
   "outputs": [],
   "source": []
  },
  {
   "cell_type": "code",
   "execution_count": null,
   "id": "bafcd42b-bb8e-4efe-bca3-ef8dc8dd6bfe",
   "metadata": {},
   "outputs": [],
   "source": []
  },
  {
   "cell_type": "code",
   "execution_count": null,
   "id": "a3f6c357-5503-4e50-9e16-94ffd4b00ec2",
   "metadata": {},
   "outputs": [],
   "source": []
  },
  {
   "cell_type": "code",
   "execution_count": null,
   "id": "9eb50c5e-1dd5-40e0-922a-1229bb68a7dd",
   "metadata": {},
   "outputs": [],
   "source": []
  },
  {
   "cell_type": "code",
   "execution_count": null,
   "id": "5bc97397-bfb5-4084-bfd6-6044862e9cd7",
   "metadata": {},
   "outputs": [],
   "source": []
  },
  {
   "cell_type": "code",
   "execution_count": null,
   "id": "a8266ded-3882-4e16-8899-18aafa040ade",
   "metadata": {},
   "outputs": [],
   "source": []
  },
  {
   "cell_type": "code",
   "execution_count": null,
   "id": "4715c48f-d3f3-4aad-937f-0742ac436238",
   "metadata": {},
   "outputs": [],
   "source": []
  },
  {
   "cell_type": "code",
   "execution_count": null,
   "id": "c8cd1d91-4488-4248-8516-ad6082cfdcbe",
   "metadata": {},
   "outputs": [],
   "source": []
  },
  {
   "cell_type": "code",
   "execution_count": null,
   "id": "d1ec5082-c80e-4fed-8a1c-c4dde347398b",
   "metadata": {},
   "outputs": [],
   "source": []
  },
  {
   "cell_type": "code",
   "execution_count": null,
   "id": "d4c0b488-b27e-4aee-a12e-5568cfb4f873",
   "metadata": {},
   "outputs": [],
   "source": []
  },
  {
   "cell_type": "code",
   "execution_count": null,
   "id": "f7cdfe76-74f1-4122-b1ee-8de9ab37a668",
   "metadata": {},
   "outputs": [],
   "source": []
  },
  {
   "cell_type": "code",
   "execution_count": null,
   "id": "01210715-4f7d-4b8d-ae7d-92179e6fcd54",
   "metadata": {},
   "outputs": [],
   "source": []
  },
  {
   "cell_type": "code",
   "execution_count": null,
   "id": "78d80144-fbad-4e91-9bcc-a9075e171f24",
   "metadata": {},
   "outputs": [],
   "source": []
  },
  {
   "cell_type": "code",
   "execution_count": null,
   "id": "6d8afcdf-4a36-4bac-86fb-9f87c63cd1eb",
   "metadata": {},
   "outputs": [],
   "source": []
  },
  {
   "cell_type": "code",
   "execution_count": null,
   "id": "cc4cad0c-d000-45e5-9e49-8eb201ad5902",
   "metadata": {},
   "outputs": [],
   "source": []
  },
  {
   "cell_type": "code",
   "execution_count": null,
   "id": "18353ae4-8cf2-42c9-b17e-9fdb168659c8",
   "metadata": {},
   "outputs": [],
   "source": []
  },
  {
   "cell_type": "code",
   "execution_count": null,
   "id": "4f882bd5-72f6-416c-bd4d-3b13c8aac72e",
   "metadata": {},
   "outputs": [],
   "source": []
  },
  {
   "cell_type": "code",
   "execution_count": null,
   "id": "42f87d16-7013-4f2c-afb7-137761019ffb",
   "metadata": {},
   "outputs": [],
   "source": []
  },
  {
   "cell_type": "code",
   "execution_count": null,
   "id": "11c649b2-c6f2-41f5-85e4-bb8236ac8580",
   "metadata": {},
   "outputs": [],
   "source": []
  },
  {
   "cell_type": "code",
   "execution_count": null,
   "id": "c93732f6-4af2-4832-b33e-0370f956e03b",
   "metadata": {},
   "outputs": [],
   "source": []
  },
  {
   "cell_type": "code",
   "execution_count": null,
   "id": "8f507498-333e-49b3-ad88-0196686cb85e",
   "metadata": {},
   "outputs": [],
   "source": []
  },
  {
   "cell_type": "code",
   "execution_count": null,
   "id": "c5f1435d-eb7d-4e05-a7fc-a49307646fad",
   "metadata": {},
   "outputs": [],
   "source": []
  },
  {
   "cell_type": "code",
   "execution_count": null,
   "id": "b0c4fe1b-0377-48e5-b10b-293573602a45",
   "metadata": {},
   "outputs": [],
   "source": []
  },
  {
   "cell_type": "code",
   "execution_count": null,
   "id": "647c3c51-fe40-464b-a8e3-2301150489a6",
   "metadata": {},
   "outputs": [],
   "source": []
  },
  {
   "cell_type": "code",
   "execution_count": null,
   "id": "81325cbc-c372-4e93-bd89-2ba5198e8b5a",
   "metadata": {},
   "outputs": [],
   "source": []
  },
  {
   "cell_type": "code",
   "execution_count": null,
   "id": "1079f1ca-937b-427f-9957-a21f06987468",
   "metadata": {},
   "outputs": [],
   "source": []
  },
  {
   "cell_type": "code",
   "execution_count": null,
   "id": "eb2308eb-4757-4af4-8c93-337f58e46c82",
   "metadata": {},
   "outputs": [],
   "source": []
  }
 ],
 "metadata": {
  "kernelspec": {
   "display_name": "Python 3 (ipykernel)",
   "language": "python",
   "name": "python3"
  },
  "language_info": {
   "codemirror_mode": {
    "name": "ipython",
    "version": 3
   },
   "file_extension": ".py",
   "mimetype": "text/x-python",
   "name": "python",
   "nbconvert_exporter": "python",
   "pygments_lexer": "ipython3",
   "version": "3.12.4"
  }
 },
 "nbformat": 4,
 "nbformat_minor": 5
}
