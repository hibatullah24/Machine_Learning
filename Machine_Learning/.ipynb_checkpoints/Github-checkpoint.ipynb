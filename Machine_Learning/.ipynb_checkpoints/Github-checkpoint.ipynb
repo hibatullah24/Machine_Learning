{
 "cells": [
  {
   "cell_type": "code",
   "execution_count": 12,
   "id": "fa5bbdd9-9d49-4be0-9760-04a2ec740e55",
   "metadata": {},
   "outputs": [
    {
     "name": "stdout",
     "output_type": "stream",
     "text": [
      "git version 2.25.1\n"
     ]
    }
   ],
   "source": [
    "!git --version"
   ]
  },
  {
   "cell_type": "code",
   "execution_count": 13,
   "id": "e4c2b8c0-d899-419c-ace9-d28747c927b4",
   "metadata": {},
   "outputs": [],
   "source": [
    "!git config --global user.name \"hibatullah24\"\n",
    "!git config --global user.email \"hibatullah.saleh2000@gmail.com\"\n"
   ]
  },
  {
   "cell_type": "code",
   "execution_count": 14,
   "id": "7967dbf3-1d00-4b7f-969b-99f61002d095",
   "metadata": {},
   "outputs": [
    {
     "name": "stdout",
     "output_type": "stream",
     "text": [
      "Cloning into 'Machine_Learning'...\n",
      "remote: Enumerating objects: 3, done.\u001b[K\n",
      "remote: Counting objects: 100% (3/3), done.\u001b[K\n",
      "remote: Total 3 (delta 0), reused 0 (delta 0), pack-reused 0 (from 0)\u001b[K\n",
      "Unpacking objects: 100% (3/3), 868 bytes | 868.00 KiB/s, done.\n"
     ]
    }
   ],
   "source": [
    "!git clone https://github.com/hibatullah24/Machine_Learning"
   ]
  },
  {
   "cell_type": "code",
   "execution_count": 15,
   "id": "eebb078d-02d5-4955-a0c8-e75a4a363986",
   "metadata": {},
   "outputs": [
    {
     "name": "stdout",
     "output_type": "stream",
     "text": [
      "mv: cannot stat 'Day2': No such file or directory\n"
     ]
    }
   ],
   "source": [
    "!mv Day2 Machine_Learning/"
   ]
  },
  {
   "cell_type": "code",
   "execution_count": 16,
   "id": "4f256005-742a-428e-abaf-b47bdb521547",
   "metadata": {},
   "outputs": [
    {
     "name": "stdout",
     "output_type": "stream",
     "text": [
      "/home/makeen/makeenv2_repo/_Working-Space/Hibatullah.saleh2000/Machine_Learning/Machine_Learning/Machine_Learning\n"
     ]
    }
   ],
   "source": [
    "%cd Machine_Learning"
   ]
  },
  {
   "cell_type": "code",
   "execution_count": 17,
   "id": "8e6f108d-28e0-4341-a776-c984831d291a",
   "metadata": {},
   "outputs": [],
   "source": [
    "!git add ."
   ]
  },
  {
   "cell_type": "code",
   "execution_count": 18,
   "id": "be548e32-f48f-44e0-ae64-f4c4aa05b610",
   "metadata": {},
   "outputs": [
    {
     "name": "stdout",
     "output_type": "stream",
     "text": [
      "On branch main\n",
      "Your branch is up to date with 'origin/main'.\n",
      "\n",
      "nothing to commit, working tree clean\n"
     ]
    }
   ],
   "source": [
    "!git commit -m \"Added Day2 with notebooks and files\""
   ]
  },
  {
   "cell_type": "code",
   "execution_count": null,
   "id": "8abf48de-3954-412d-a49d-202903dbefe9",
   "metadata": {},
   "outputs": [
    {
     "name": "stdout",
     "output_type": "stream",
     "text": [
      "Username for 'https://github.com': "
     ]
    }
   ],
   "source": [
    "!git push -u origin main"
   ]
  }
 ],
 "metadata": {
  "kernelspec": {
   "display_name": "(00) Python 3.9 - ML",
   "language": "python",
   "name": "py39_ml"
  },
  "language_info": {
   "codemirror_mode": {
    "name": "ipython",
    "version": 3
   },
   "file_extension": ".py",
   "mimetype": "text/x-python",
   "name": "python",
   "nbconvert_exporter": "python",
   "pygments_lexer": "ipython3",
   "version": "3.9.23"
  }
 },
 "nbformat": 4,
 "nbformat_minor": 5
}
